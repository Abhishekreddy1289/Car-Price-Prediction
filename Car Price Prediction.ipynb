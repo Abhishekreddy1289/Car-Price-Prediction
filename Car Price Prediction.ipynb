{
 "cells": [
  {
   "cell_type": "markdown",
   "id": "b06ee676",
   "metadata": {},
   "source": [
    "# Car Price Prediction Project"
   ]
  },
  {
   "cell_type": "markdown",
   "id": "ee684af4",
   "metadata": {},
   "source": [
    "With the covid 19 impact in the market, we have seen lot of changes in the car market. Now some cars are in demand hence making them costly and some are not in demand hence cheaper. One of our clients works with small traders, who sell used cars. With the change in market due to covid 19 impact, our client is facing problems with their previous car price valuation machine learning models. So, they are looking for new machine learning models from new data. We have to make car price valuation model."
   ]
  },
  {
   "cell_type": "markdown",
   "id": "aae8453a",
   "metadata": {},
   "source": [
    "## This project contains two phase- "
   ]
  },
  {
   "cell_type": "markdown",
   "id": "49775ee1",
   "metadata": {},
   "source": [
    "### Data Collection Phase "
   ]
  },
  {
   "cell_type": "markdown",
   "id": "91975cd3",
   "metadata": {},
   "source": [
    "You have to scrape at least 100 used cars data. You can scrape more data as well, it’s up to you. more the data better the model In this section You need to scrape the data of used cars from websites (Olx, cardekho, Cars24 etc.) You need web scraping for this. You have to fetch data for different locations. The number of columns for data doesn’t have limit, it’s up to you and your creativity. Generally, these columns are Brand, model, variant, manufacturing year, driven kilometers, fuel, number of owners, location and at last target variable Price of the car. This data is to give you a hint about important variables in used car model. You can make changes to it, you can add or you can remove some columns, it completely depends on the website from which you are fetching the data. Try to include all types of cars in your data for example- SUV, Sedans, Coupe, minivan, Hatchback. "
   ]
  },
  {
   "cell_type": "markdown",
   "id": "b1ee23d6",
   "metadata": {},
   "source": [
    "### Model Building Phase "
   ]
  },
  {
   "cell_type": "markdown",
   "id": "7d87003e",
   "metadata": {},
   "source": [
    "After collecting the data, you need to build a machine learning model.\n",
    "\n",
    "Before model building do all data pre-processing steps. \n",
    "\n",
    "Try different models with different hyper parameters and select the best model. \n",
    "\n",
    "Follow the complete life cycle of data science.\n",
    "\n",
    "Include all the steps like. \n",
    "1. Data Cleaning \n",
    "2. Exploratory Data Analysis \n",
    "3. Data Pre-processing \n",
    "4. Model Building \n",
    "5. Model Evaluation \n",
    "6. Selecting the best model "
   ]
  },
  {
   "cell_type": "markdown",
   "id": "80eaba77",
   "metadata": {},
   "source": [
    "### 1.Data Collection Phase "
   ]
  },
  {
   "cell_type": "code",
   "execution_count": 1,
   "id": "a2c3d76f",
   "metadata": {},
   "outputs": [],
   "source": [
    "#collect data from Olx, cardekho, Cars24 websites by using selenium and beautiful soup\n",
    "#import needed libraries\n",
    "from selenium import webdriver\n",
    "from bs4 import BeautifulSoup\n",
    "import requests\n",
    "import numpy as np\n",
    "import pandas as pd\n",
    "import time\n",
    "import warnings\n",
    "warnings.filterwarnings('ignore')\n",
    "\n",
    "#exceptions\n",
    "from selenium.common.exceptions import NoSuchElementException,StaleElementReferenceException\n",
    "from selenium.common.exceptions import ElementNotInteractableException"
   ]
  },
  {
   "cell_type": "code",
   "execution_count": 236,
   "id": "e6ed45c6",
   "metadata": {},
   "outputs": [],
   "source": [
    "url='https://www.cars24.com/buy-used-car?sort=P&storeCityId=134&pinId=201301'"
   ]
  },
  {
   "cell_type": "code",
   "execution_count": 237,
   "id": "4b903478",
   "metadata": {},
   "outputs": [],
   "source": [
    "#open web driver\n",
    "driver=webdriver.Chrome(r\"C:\\Users\\dell\\Downloads\\chromedriver_win32 (2)\\chromedriver.exe\")\n",
    "driver.get(url)"
   ]
  },
  {
   "cell_type": "raw",
   "id": "7272004d",
   "metadata": {},
   "source": [
    "brand=[]\n",
    "year=[]\n",
    "model=[]\n",
    "price=[]\n",
    "variant=[]\n",
    "driven_kilometers=[]\n",
    "fuel=[]\n",
    "number_of_owners=[]"
   ]
  },
  {
   "cell_type": "code",
   "execution_count": 238,
   "id": "498bffca",
   "metadata": {},
   "outputs": [
    {
     "name": "stdout",
     "output_type": "stream",
     "text": [
      "20 ['Hyundai Grand i10', 'Honda Amaze', 'Hyundai Grand i10', 'Maruti Wagon R 1.0', 'Mercedes Benz GLA Class', 'Maruti Swift', 'Mahindra Kuv100', 'Maruti Wagon R 1.0', 'Ford Ecosport', 'Audi A3', 'BMW X3', 'Hyundai GRAND I10 NIOS', 'Volkswagen Polo', 'Maruti S Cross', 'Maruti Ciaz', 'Toyota Innova', 'Tata Tiago', 'Maruti Alto K10', 'Jeep Compass', 'Maruti Baleno']\n"
     ]
    }
   ],
   "source": [
    "#scrape brand name\n",
    "brand=[]\n",
    "try:\n",
    "    brands=driver.find_elements_by_xpath('//div[@class=\"_1jpRU\"]/h2')\n",
    "    for x in brands:\n",
    "        brand.append(x.text[5:])\n",
    "except NoSuchElementException:\n",
    "    brand.append('No deatils')\n",
    "except StaleElementReferenceException:\n",
    "    brand.append('No deatils')\n",
    "print(len(brand),brand)"
   ]
  },
  {
   "cell_type": "code",
   "execution_count": 239,
   "id": "59be7f0a",
   "metadata": {},
   "outputs": [
    {
     "name": "stdout",
     "output_type": "stream",
     "text": [
      "20 ['2020', '2013', '2017', '2010', '2015', '2011', '2017', '2016', '2019', '2014', '2013', '2021', '2015', '2018', '2021', '2014', '2021', '2012', '2019', '2018']\n"
     ]
    }
   ],
   "source": [
    "#scrape  manufacturing year\n",
    "year=[]\n",
    "try:\n",
    "    brands=driver.find_elements_by_xpath('//div[@class=\"_1jpRU\"]/h2')\n",
    "    for x in brands:\n",
    "        year.append(x.text[:4])\n",
    "except NoSuchElementException:\n",
    "    year.append('No deatils')\n",
    "except StaleElementReferenceException:\n",
    "    year.append('No deatils')\n",
    "print(len(year),year)"
   ]
  },
  {
   "cell_type": "code",
   "execution_count": 240,
   "id": "376aa866",
   "metadata": {},
   "outputs": [
    {
     "name": "stdout",
     "output_type": "stream",
     "text": [
      "20 ['588499', '418899', '605799', '244099', '1816919', '314199', '345899', '431399', '765899', '1324099', '1158649', '541699', '399199', '940399', '1151399', '964299', '710599', '246999', '1367499', '525699']\n"
     ]
    }
   ],
   "source": [
    "#scrape  price\n",
    "price=[]\n",
    "try:\n",
    "    prices=driver.find_elements_by_xpath('//div[@class=\"_7udZZ\"]/span')\n",
    "    for x in prices:\n",
    "        price.append(x.text.replace('₹','').replace(',',''))\n",
    "except NoSuchElementException:\n",
    "    price.append('No deatils')\n",
    "except StaleElementReferenceException:\n",
    "    price.append('No deatils')\n",
    "print(len(price),price)"
   ]
  },
  {
   "cell_type": "code",
   "execution_count": 241,
   "id": "94dd0ed4",
   "metadata": {},
   "outputs": [
    {
     "name": "stdout",
     "output_type": "stream",
     "text": [
      "20 ['MAGNA 1.2 VTVT ', '1.2 EMT I VTEC ', 'SPORTZ (O) 1.2 AT VTVT ', 'LXI ', '200 CDI STYLE ', 'LXI ', 'K6+ 6 STR ', 'VXI AMT ', '1.5 TREND TI VCT ', '35TDI PREMIUM ', 'XDRIVE 20D ', 'ERA PETROL ', 'COMFORTLINE 1.2L PETROL ', 'ALPHA SHVS ', 'ALPHA 1.5 MT VTVT SHVS ', '2.5 VX 8 STR BS IV ', 'XTA 1.2 PETROL ', 'VXI ', '1.4 SPORT PETROL ', 'DELTA 1.2 K12 ']\n"
     ]
    }
   ],
   "source": [
    "#scrape  model\n",
    "model=[]\n",
    "try:\n",
    "    models=driver.find_elements_by_xpath('//div[@class=\"_1jpRU\"]/p')\n",
    "    for x in models:\n",
    "        model.append(x.text.replace('Manual','').replace('Automatic',''))\n",
    "except NoSuchElementException:\n",
    "    model.append('No deatils')\n",
    "except StaleElementReferenceException:\n",
    "    model.append('No deatils')\n",
    "print(len(model),model)"
   ]
  },
  {
   "cell_type": "code",
   "execution_count": 242,
   "id": "a4286744",
   "metadata": {},
   "outputs": [
    {
     "name": "stdout",
     "output_type": "stream",
     "text": [
      "20 ['Manual', 'Manual', 'Automatic', 'Manual', 'Automatic', 'Manual', 'Manual', 'Automatic', 'Manual', 'Automatic', 'Automatic', 'Manual', 'Manual', 'Manual', 'Manual', 'Manual', 'Automatic', 'Manual', 'Manual', 'Manual']\n"
     ]
    }
   ],
   "source": [
    "#scrape variant\n",
    "variant=[]\n",
    "try:\n",
    "    variants=driver.find_elements_by_xpath('//div[@class=\"_1jpRU\"]/p/span')\n",
    "    for x in variants:\n",
    "        variant.append(x.text)\n",
    "except NoSuchElementException:\n",
    "    variant.append('No deatils')\n",
    "except StaleElementReferenceException:\n",
    "    variant.append('No deatils')\n",
    "print(len(variant),variant)"
   ]
  },
  {
   "cell_type": "code",
   "execution_count": 243,
   "id": "959dfea5",
   "metadata": {},
   "outputs": [
    {
     "name": "stdout",
     "output_type": "stream",
     "text": [
      "20 ['13223', '31102', '12855', '48915', '29331', '23874', '51310', '21261', '43463', '34088', '71065', '42369', '93769', '55921', '9370', '82295', '6568', '59674', '42163', '23315']\n"
     ]
    }
   ],
   "source": [
    "#scrape driven_kilometers\n",
    "driven_kilometers=[]\n",
    "try:\n",
    "    driven_kilometerss=driver.find_elements_by_xpath('//ul[@class=\"bVR0c\"]/li[1]')\n",
    "    for x in driven_kilometerss:\n",
    "        driven_kilometers.append(x.text.replace(',','').replace(' km',''))\n",
    "except NoSuchElementException:\n",
    "    driven_kilometers.append('No deatils')\n",
    "except StaleElementReferenceException:\n",
    "    driven_kilometers.append('No deatils')\n",
    "print(len(driven_kilometers),driven_kilometers)"
   ]
  },
  {
   "cell_type": "code",
   "execution_count": 244,
   "id": "7c463720",
   "metadata": {},
   "outputs": [
    {
     "name": "stdout",
     "output_type": "stream",
     "text": [
      "20 ['2nd Owner', '1st Owner', '1st Owner', '2nd Owner', '1st Owner', '1st Owner', '1st Owner', '1st Owner', '1st Owner', '2nd Owner', '2nd Owner', '1st Owner', '1st Owner', '1st Owner', '1st Owner', '1st Owner', '1st Owner', '1st Owner', '2nd Owner', '3rd Owner']\n"
     ]
    }
   ],
   "source": [
    "#scrape number_of_owners\n",
    "number_of_owners=[]\n",
    "try:\n",
    "    number_of_ownerss=driver.find_elements_by_xpath('//ul[@class=\"bVR0c\"]/li[2]')\n",
    "    for x in number_of_ownerss:\n",
    "        number_of_owners.append(x.text)\n",
    "except NoSuchElementException:\n",
    "    number_of_owners.append('No deatils')\n",
    "except StaleElementReferenceException:\n",
    "    number_of_owners.append('No deatils')\n",
    "print(len(number_of_owners),number_of_owners)"
   ]
  },
  {
   "cell_type": "code",
   "execution_count": 245,
   "id": "91c39d5d",
   "metadata": {},
   "outputs": [
    {
     "name": "stdout",
     "output_type": "stream",
     "text": [
      "20 ['Petrol', 'Petrol', 'Petrol', 'Petrol', 'Diesel', 'Petrol', 'Petrol', 'Petrol', 'Petrol', 'Diesel', 'Diesel', 'Petrol', 'Petrol', 'Diesel', 'Petrol', 'Diesel', 'Petrol', 'Petrol', 'Petrol', 'Petrol']\n"
     ]
    }
   ],
   "source": [
    "#scrape fuel\n",
    "fuel=[]\n",
    "try:\n",
    "    fuels=driver.find_elements_by_xpath('//ul[@class=\"bVR0c\"]/li[3]')\n",
    "    for x in fuels:\n",
    "        fuel.append(x.text)\n",
    "except NoSuchElementException:\n",
    "    fuel.append('No deatils')\n",
    "except StaleElementReferenceException:\n",
    "    fuel.append('No deatils')\n",
    "print(len(fuel),fuel)"
   ]
  },
  {
   "cell_type": "code",
   "execution_count": 246,
   "id": "c6f395f1",
   "metadata": {},
   "outputs": [],
   "source": [
    "driver.close()"
   ]
  },
  {
   "cell_type": "code",
   "execution_count": 247,
   "id": "4ec9c66e",
   "metadata": {},
   "outputs": [],
   "source": [
    "url='https://www.cars24.com/buy-used-car?sort=P&search=MARUTI%20SUZUKI&storeCityId=8597&pinId=201301'"
   ]
  },
  {
   "cell_type": "code",
   "execution_count": 248,
   "id": "95dbd305",
   "metadata": {},
   "outputs": [],
   "source": [
    "#open web driver\n",
    "driver=webdriver.Chrome(r\"C:\\Users\\dell\\Downloads\\chromedriver_win32 (2)\\chromedriver.exe\")\n",
    "driver.get(url)"
   ]
  },
  {
   "cell_type": "code",
   "execution_count": 249,
   "id": "bbd3de9f",
   "metadata": {},
   "outputs": [],
   "source": [
    "def brand1():\n",
    "    #scrape brand name\n",
    "    try:\n",
    "        brands=driver.find_elements_by_xpath('//div[@class=\"_1jpRU\"]/h2')\n",
    "        for x in brands:\n",
    "            brand.append(x.text[5:])\n",
    "    except NoSuchElementException:\n",
    "        brand.append('No deatils')\n",
    "    except StaleElementReferenceException:\n",
    "        brand.append('No deatils')\n",
    "    print(len(brand),brand)"
   ]
  },
  {
   "cell_type": "code",
   "execution_count": 250,
   "id": "ea828f97",
   "metadata": {},
   "outputs": [],
   "source": [
    "def year1():\n",
    "    #scrape  manufacturing year\n",
    "    try:\n",
    "        brands=driver.find_elements_by_xpath('//div[@class=\"_1jpRU\"]/h2')\n",
    "        for x in brands:\n",
    "            year.append(x.text[:4])\n",
    "    except NoSuchElementException:\n",
    "        year.append('No deatils')\n",
    "    except StaleElementReferenceException:\n",
    "        year.append('No deatils')\n",
    "    print(len(year),year)"
   ]
  },
  {
   "cell_type": "code",
   "execution_count": 251,
   "id": "aaf38181",
   "metadata": {},
   "outputs": [],
   "source": [
    "def price1():\n",
    "    #scrape  price\n",
    "    try:\n",
    "        prices=driver.find_elements_by_xpath('//div[@class=\"_7udZZ\"]/span')\n",
    "        for x in prices:\n",
    "            price.append(x.text.replace('₹','').replace(',',''))\n",
    "    except NoSuchElementException:\n",
    "        price.append('No deatils')\n",
    "    except StaleElementReferenceException:\n",
    "        price.append('No deatils')\n",
    "    print(len(price),price)"
   ]
  },
  {
   "cell_type": "code",
   "execution_count": 252,
   "id": "99d0a207",
   "metadata": {},
   "outputs": [],
   "source": [
    "def model1():\n",
    "    #scrape  model\n",
    "    try:\n",
    "        models=driver.find_elements_by_xpath('//div[@class=\"_1jpRU\"]/p')\n",
    "        for x in models:\n",
    "            model.append(x.text.replace('Manual','').replace('Automatic',''))\n",
    "    except NoSuchElementException:\n",
    "        model.append('No deatils')\n",
    "    except StaleElementReferenceException:\n",
    "        model.append('No deatils')\n",
    "    print(len(model),model)"
   ]
  },
  {
   "cell_type": "code",
   "execution_count": 253,
   "id": "a26062df",
   "metadata": {},
   "outputs": [],
   "source": [
    "def variant1():\n",
    "    #scrape variant\n",
    "    try:\n",
    "        variants=driver.find_elements_by_xpath('//div[@class=\"_1jpRU\"]/p/span')\n",
    "        for x in variants:\n",
    "            variant.append(x.text)\n",
    "    except NoSuchElementException:\n",
    "        variant.append('No deatils')\n",
    "    except StaleElementReferenceException:\n",
    "        variant.append('No deatils')\n",
    "    print(len(variant),variant)"
   ]
  },
  {
   "cell_type": "code",
   "execution_count": 254,
   "id": "8440b702",
   "metadata": {},
   "outputs": [],
   "source": [
    "def kms():\n",
    "    #scrape driven_kilometers\n",
    "    try:\n",
    "        driven_kilometerss=driver.find_elements_by_xpath('//ul[@class=\"bVR0c\"]/li[1]')\n",
    "        for x in driven_kilometerss:\n",
    "            driven_kilometers.append(x.text.replace(',','').replace(' km',''))\n",
    "    except NoSuchElementException:\n",
    "        driven_kilometers.append('No deatils')\n",
    "    except StaleElementReferenceException:\n",
    "        driven_kilometers.append('No deatils')\n",
    "    print(len(driven_kilometers),driven_kilometers)"
   ]
  },
  {
   "cell_type": "code",
   "execution_count": 255,
   "id": "fb01d64f",
   "metadata": {},
   "outputs": [],
   "source": [
    "def owners():\n",
    "    #scrape number_of_owners\n",
    "    try:\n",
    "        number_of_ownerss=driver.find_elements_by_xpath('//ul[@class=\"bVR0c\"]/li[2]')\n",
    "        for x in number_of_ownerss:\n",
    "            number_of_owners.append(x.text)\n",
    "    except NoSuchElementException:\n",
    "        number_of_owners.append('No deatils')\n",
    "    except StaleElementReferenceException:\n",
    "        number_of_owners.append('No deatils')\n",
    "    print(len(number_of_owners),number_of_owners)"
   ]
  },
  {
   "cell_type": "code",
   "execution_count": 256,
   "id": "b2cc124b",
   "metadata": {},
   "outputs": [],
   "source": [
    "def fuel1():\n",
    "    #scrape fuel\n",
    "    try:\n",
    "        fuels=driver.find_elements_by_xpath('//ul[@class=\"bVR0c\"]/li[3]')\n",
    "        for x in fuels:\n",
    "            fuel.append(x.text)\n",
    "    except NoSuchElementException:\n",
    "        fuel.append('No deatils')\n",
    "    except StaleElementReferenceException:\n",
    "        fuel.append('No deatils')\n",
    "    print(len(fuel),fuel)"
   ]
  },
  {
   "cell_type": "code",
   "execution_count": 257,
   "id": "2447d5b1",
   "metadata": {},
   "outputs": [],
   "source": [
    "def main():\n",
    "    print(brand1())\n",
    "    print(price1())\n",
    "    print(model1())\n",
    "    print(year1())\n",
    "    print(variant1())\n",
    "    print(fuel1())\n",
    "    print(kms())\n",
    "    print(owners())"
   ]
  },
  {
   "cell_type": "code",
   "execution_count": 258,
   "id": "dfe10677",
   "metadata": {},
   "outputs": [
    {
     "name": "stdout",
     "output_type": "stream",
     "text": [
      "40 ['Hyundai Grand i10', 'Honda Amaze', 'Hyundai Grand i10', 'Maruti Wagon R 1.0', 'Mercedes Benz GLA Class', 'Maruti Swift', 'Mahindra Kuv100', 'Maruti Wagon R 1.0', 'Ford Ecosport', 'Audi A3', 'BMW X3', 'Hyundai GRAND I10 NIOS', 'Volkswagen Polo', 'Maruti S Cross', 'Maruti Ciaz', 'Toyota Innova', 'Tata Tiago', 'Maruti Alto K10', 'Jeep Compass', 'Maruti Baleno', 'Maruti Baleno', 'Maruti Celerio', 'Maruti Swift', 'Maruti Swift', 'Maruti Celerio', 'Maruti Swift', 'Maruti Swift', 'Maruti Ertiga', 'Maruti Alto', 'Maruti Ciaz', 'Maruti Ciaz', 'Maruti Alto', 'Maruti Baleno', 'Maruti Ciaz', 'Maruti Swift', 'Maruti Ciaz', 'Maruti Baleno', 'Maruti Swift', 'Maruti Ritz', 'Maruti Swift']\n",
      "None\n",
      "40 ['588499', '418899', '605799', '244099', '1816919', '314199', '345899', '431399', '765899', '1324099', '1158649', '541699', '399199', '940399', '1151399', '964299', '710599', '246999', '1367499', '525699', '677299', '485699', '401299', '405799', '488499', '393499', '389999', '528899', '505399', '569299', '634599', '383999', '552399', '663299', '440299', '599119', '694199', '408499', '230399', '535099']\n",
      "None\n",
      "40 ['MAGNA 1.2 VTVT ', '1.2 EMT I VTEC ', 'SPORTZ (O) 1.2 AT VTVT ', 'LXI ', '200 CDI STYLE ', 'LXI ', 'K6+ 6 STR ', 'VXI AMT ', '1.5 TREND TI VCT ', '35TDI PREMIUM ', 'XDRIVE 20D ', 'ERA PETROL ', 'COMFORTLINE 1.2L PETROL ', 'ALPHA SHVS ', 'ALPHA 1.5 MT VTVT SHVS ', '2.5 VX 8 STR BS IV ', 'XTA 1.2 PETROL ', 'VXI ', '1.4 SPORT PETROL ', 'DELTA 1.2 K12 ', 'DELTA 1.2 K12 ', 'ZXI ', 'VXI ', 'VDI ABS ', 'VXI ', 'ZDI ', 'LDI BS IV ', 'VDI ABS ', 'LXI CNG ', 'VXI PLUS ', 'VDI+ SHVS ', 'VXI ', 'DELTA DDIS 190 ', 'DELTA 1.3 DDIS SHVS ', 'VDI ', 'VXI PLUS ', 'DELTA 1.2 K12 ', 'ZDI ', 'VDI ', 'VDI ABS ']\n",
      "None\n",
      "40 ['2020', '2013', '2017', '2010', '2015', '2011', '2017', '2016', '2019', '2014', '2013', '2021', '2015', '2018', '2021', '2014', '2021', '2012', '2019', '2018', '2019', '2018', '2014', '2015', '2018', '2014', '2015', '2013', '2021', '2016', '2017', '2019', '2016', '2017', '2015', '2016', '2020', '2014', '2013', '2017']\n",
      "None\n",
      "40 ['Manual', 'Manual', 'Automatic', 'Manual', 'Automatic', 'Manual', 'Manual', 'Automatic', 'Manual', 'Automatic', 'Automatic', 'Manual', 'Manual', 'Manual', 'Manual', 'Manual', 'Automatic', 'Manual', 'Manual', 'Manual', 'Manual', 'Manual', 'Manual', 'Manual', 'Manual', 'Manual', 'Manual', 'Manual', 'Manual', 'Manual', 'Manual', 'Manual', 'Manual', 'Manual', 'Manual', 'Manual', 'Manual', 'Manual', 'Manual', 'Manual']\n",
      "None\n",
      "40 ['Petrol', 'Petrol', 'Petrol', 'Petrol', 'Diesel', 'Petrol', 'Petrol', 'Petrol', 'Petrol', 'Diesel', 'Diesel', 'Petrol', 'Petrol', 'Diesel', 'Petrol', 'Diesel', 'Petrol', 'Petrol', 'Petrol', 'Petrol', 'Petrol', 'Petrol', 'Petrol', 'Diesel', 'Petrol', 'Diesel', 'Diesel', 'Diesel', 'Petrol + CNG', 'Petrol', 'Diesel', 'Petrol', 'Diesel', 'Diesel', 'Diesel', 'Petrol', 'Petrol', 'Diesel', 'Diesel', 'Diesel']\n",
      "None\n",
      "40 ['13223', '31102', '12855', '48915', '29331', '23874', '51310', '21261', '43463', '34088', '71065', '42369', '93769', '55921', '9370', '82295', '6568', '59674', '42163', '23315', '11827', '31106', '61754', '61862', '12225', '92143', '49562', '49273', '26369', '98363', '83108', '37748', '69270', '55420', '30766', '57845', '21463', '73330', '56117', '46220']\n",
      "None\n",
      "40 ['2nd Owner', '1st Owner', '1st Owner', '2nd Owner', '1st Owner', '1st Owner', '1st Owner', '1st Owner', '1st Owner', '2nd Owner', '2nd Owner', '1st Owner', '1st Owner', '1st Owner', '1st Owner', '1st Owner', '1st Owner', '1st Owner', '2nd Owner', '3rd Owner', '1st Owner', '1st Owner', '2nd Owner', '2nd Owner', '1st Owner', '1st Owner', '1st Owner', '1st Owner', '1st Owner', '1st Owner', '1st Owner', '1st Owner', '1st Owner', '1st Owner', '1st Owner', '2nd Owner', '1st Owner', '1st Owner', '1st Owner', '1st Owner']\n",
      "None\n"
     ]
    }
   ],
   "source": [
    "main()"
   ]
  },
  {
   "cell_type": "code",
   "execution_count": 259,
   "id": "226a47ec",
   "metadata": {},
   "outputs": [],
   "source": [
    "driver.close()"
   ]
  },
  {
   "cell_type": "code",
   "execution_count": 260,
   "id": "84a551b2",
   "metadata": {},
   "outputs": [],
   "source": [
    "url='https://www.cars24.com/buy-used-car?sort=P&search=HYUNDAI&storeCityId=8597&pinId=201301'"
   ]
  },
  {
   "cell_type": "code",
   "execution_count": 261,
   "id": "85904297",
   "metadata": {},
   "outputs": [],
   "source": [
    "#open web driver\n",
    "driver=webdriver.Chrome(r\"C:\\Users\\dell\\Downloads\\chromedriver_win32 (2)\\chromedriver.exe\")\n",
    "driver.get(url)"
   ]
  },
  {
   "cell_type": "code",
   "execution_count": 262,
   "id": "7bd8957c",
   "metadata": {},
   "outputs": [
    {
     "name": "stdout",
     "output_type": "stream",
     "text": [
      "60 ['Hyundai Grand i10', 'Honda Amaze', 'Hyundai Grand i10', 'Maruti Wagon R 1.0', 'Mercedes Benz GLA Class', 'Maruti Swift', 'Mahindra Kuv100', 'Maruti Wagon R 1.0', 'Ford Ecosport', 'Audi A3', 'BMW X3', 'Hyundai GRAND I10 NIOS', 'Volkswagen Polo', 'Maruti S Cross', 'Maruti Ciaz', 'Toyota Innova', 'Tata Tiago', 'Maruti Alto K10', 'Jeep Compass', 'Maruti Baleno', 'Maruti Baleno', 'Maruti Celerio', 'Maruti Swift', 'Maruti Swift', 'Maruti Celerio', 'Maruti Swift', 'Maruti Swift', 'Maruti Ertiga', 'Maruti Alto', 'Maruti Ciaz', 'Maruti Ciaz', 'Maruti Alto', 'Maruti Baleno', 'Maruti Ciaz', 'Maruti Swift', 'Maruti Ciaz', 'Maruti Baleno', 'Maruti Swift', 'Maruti Ritz', 'Maruti Swift', 'Hyundai VENUE', 'Hyundai Creta', 'Hyundai i20', 'Hyundai VENUE', 'Hyundai i10', 'Hyundai Creta', 'Hyundai Creta', 'Hyundai Creta', 'Hyundai Verna', 'Hyundai Eon', 'Hyundai Creta', 'Hyundai Creta', 'Hyundai Creta', 'Hyundai Creta', 'Hyundai Creta', 'Hyundai Verna', 'Hyundai Creta', 'Hyundai i20', 'Hyundai Eon', 'Hyundai Eon']\n",
      "None\n",
      "60 ['588499', '418899', '605799', '244099', '1816919', '314199', '345899', '431399', '765899', '1324099', '1158649', '541699', '399199', '940399', '1151399', '964299', '710599', '246999', '1367499', '525699', '677299', '485699', '401299', '405799', '488499', '393499', '389999', '528899', '505399', '569299', '634599', '383999', '552399', '663299', '440299', '599119', '694199', '408499', '230399', '535099', '1162199', '824999', '270399', '990499', '201199', '901199', '843399', '863399', '435199', '262099', '825599', '783399', '1072199', '845999', '859099', '603199', '1220099', '312099', '316599', '256399']\n",
      "None\n",
      "60 ['MAGNA 1.2 VTVT ', '1.2 EMT I VTEC ', 'SPORTZ (O) 1.2 AT VTVT ', 'LXI ', '200 CDI STYLE ', 'LXI ', 'K6+ 6 STR ', 'VXI AMT ', '1.5 TREND TI VCT ', '35TDI PREMIUM ', 'XDRIVE 20D ', 'ERA PETROL ', 'COMFORTLINE 1.2L PETROL ', 'ALPHA SHVS ', 'ALPHA 1.5 MT VTVT SHVS ', '2.5 VX 8 STR BS IV ', 'XTA 1.2 PETROL ', 'VXI ', '1.4 SPORT PETROL ', 'DELTA 1.2 K12 ', 'DELTA 1.2 K12 ', 'ZXI ', 'VXI ', 'VDI ABS ', 'VXI ', 'ZDI ', 'LDI BS IV ', 'VDI ABS ', 'LXI CNG ', 'VXI PLUS ', 'VDI+ SHVS ', 'VXI ', 'DELTA DDIS 190 ', 'DELTA 1.3 DDIS SHVS ', 'VDI ', 'VXI PLUS ', 'DELTA 1.2 K12 ', 'ZDI ', 'VDI ', 'VDI ABS ', 'SX(O) CRDi ', '1.4 E PLUS CRDI ', 'MAGNA O 1.2 ', '1.0L Turbo GDI SX MT ', 'MAGNA 1.2 ', '1.4 E PLUS CRDI ', '1.6 S ', '1.6 SX PLUS PETROL ', 'FLUIDIC 1.6 CRDI SX OPT ', 'MAGNA PLUS ', '1.6 S ', '1.4 S CRDI ', '1.6 CRDI SX PLUS AUTO ', '1.6 SX (O) CRDI ', '1.6 SX (O) CRDI ', 'FLUIDIC 1.6 CRDI S ', '1.6 SX CRDI ', 'ERA 1.4 CRDI ', 'MAGNA PLUS ', 'MAGNA PLUS ']\n",
      "None\n",
      "60 ['2020', '2013', '2017', '2010', '2015', '2011', '2017', '2016', '2019', '2014', '2013', '2021', '2015', '2018', '2021', '2014', '2021', '2012', '2019', '2018', '2019', '2018', '2014', '2015', '2018', '2014', '2015', '2013', '2021', '2016', '2017', '2019', '2016', '2017', '2015', '2016', '2020', '2014', '2013', '2017', '2021', '2018', '2010', '2021', '2009', '2018', '2016', '2015', '2013', '2014', '2015', '2017', '2018', '2015', '2015', '2015', '2019', '2013', '2016', '2015']\n",
      "None\n",
      "60 ['Manual', 'Manual', 'Automatic', 'Manual', 'Automatic', 'Manual', 'Manual', 'Automatic', 'Manual', 'Automatic', 'Automatic', 'Manual', 'Manual', 'Manual', 'Manual', 'Manual', 'Automatic', 'Manual', 'Manual', 'Manual', 'Manual', 'Manual', 'Manual', 'Manual', 'Manual', 'Manual', 'Manual', 'Manual', 'Manual', 'Manual', 'Manual', 'Manual', 'Manual', 'Manual', 'Manual', 'Manual', 'Manual', 'Manual', 'Manual', 'Manual', 'Manual', 'Manual', 'Manual', 'Manual', 'Manual', 'Manual', 'Manual', 'Manual', 'Manual', 'Manual', 'Manual', 'Manual', 'Automatic', 'Manual', 'Manual', 'Manual', 'Manual', 'Manual', 'Manual', 'Manual']\n",
      "None\n",
      "60 ['Petrol', 'Petrol', 'Petrol', 'Petrol', 'Diesel', 'Petrol', 'Petrol', 'Petrol', 'Petrol', 'Diesel', 'Diesel', 'Petrol', 'Petrol', 'Diesel', 'Petrol', 'Diesel', 'Petrol', 'Petrol', 'Petrol', 'Petrol', 'Petrol', 'Petrol', 'Petrol', 'Diesel', 'Petrol', 'Diesel', 'Diesel', 'Diesel', 'Petrol + CNG', 'Petrol', 'Diesel', 'Petrol', 'Diesel', 'Diesel', 'Diesel', 'Petrol', 'Petrol', 'Diesel', 'Diesel', 'Diesel', 'Diesel', 'Diesel', 'Petrol', 'Petrol', 'Petrol', 'Diesel', 'Petrol', 'Petrol', 'Diesel', 'Petrol', 'Petrol', 'Diesel', 'Diesel', 'Diesel', 'Diesel', 'Diesel', 'Diesel', 'Diesel', 'Petrol', 'Petrol']\n",
      "None\n",
      "60 ['13223', '31102', '12855', '48915', '29331', '23874', '51310', '21261', '43463', '34088', '71065', '42369', '93769', '55921', '9370', '82295', '6568', '59674', '42163', '23315', '11827', '31106', '61754', '61862', '12225', '92143', '49562', '49273', '26369', '98363', '83108', '37748', '69270', '55420', '30766', '57845', '21463', '73330', '56117', '46220', '14621', '65694', '42422', '29645', '65882', '31760', '26137', '69186', '60651', '46966', '49566', '85928', '79409', '53468', '56027', '47039', '21929', '38173', '37171', '124854']\n",
      "None\n",
      "60 ['2nd Owner', '1st Owner', '1st Owner', '2nd Owner', '1st Owner', '1st Owner', '1st Owner', '1st Owner', '1st Owner', '2nd Owner', '2nd Owner', '1st Owner', '1st Owner', '1st Owner', '1st Owner', '1st Owner', '1st Owner', '1st Owner', '2nd Owner', '3rd Owner', '1st Owner', '1st Owner', '2nd Owner', '2nd Owner', '1st Owner', '1st Owner', '1st Owner', '1st Owner', '1st Owner', '1st Owner', '1st Owner', '1st Owner', '1st Owner', '1st Owner', '1st Owner', '2nd Owner', '1st Owner', '1st Owner', '1st Owner', '1st Owner', '1st Owner', '1st Owner', '2nd Owner', '1st Owner', '1st Owner', '1st Owner', '1st Owner', '1st Owner', '1st Owner', '3rd Owner', '1st Owner', '1st Owner', '2nd Owner', '1st Owner', '1st Owner', '1st Owner', '1st Owner', '1st Owner', '1st Owner', '1st Owner']\n",
      "None\n"
     ]
    }
   ],
   "source": [
    "main()"
   ]
  },
  {
   "cell_type": "code",
   "execution_count": 263,
   "id": "aef4e343",
   "metadata": {},
   "outputs": [],
   "source": [
    "driver.close()"
   ]
  },
  {
   "cell_type": "code",
   "execution_count": 264,
   "id": "4d9dd847",
   "metadata": {},
   "outputs": [],
   "source": [
    "url='https://www.cars24.com/buy-used-car?sort=P&search=HONDA&storeCityId=8597&pinId=201301'"
   ]
  },
  {
   "cell_type": "code",
   "execution_count": 265,
   "id": "49b05b1d",
   "metadata": {},
   "outputs": [],
   "source": [
    "#open web driver\n",
    "driver=webdriver.Chrome(r\"C:\\Users\\dell\\Downloads\\chromedriver_win32 (2)\\chromedriver.exe\")\n",
    "driver.get(url)"
   ]
  },
  {
   "cell_type": "code",
   "execution_count": 266,
   "id": "7dd4f61d",
   "metadata": {},
   "outputs": [
    {
     "name": "stdout",
     "output_type": "stream",
     "text": [
      "80 ['Hyundai Grand i10', 'Honda Amaze', 'Hyundai Grand i10', 'Maruti Wagon R 1.0', 'Mercedes Benz GLA Class', 'Maruti Swift', 'Mahindra Kuv100', 'Maruti Wagon R 1.0', 'Ford Ecosport', 'Audi A3', 'BMW X3', 'Hyundai GRAND I10 NIOS', 'Volkswagen Polo', 'Maruti S Cross', 'Maruti Ciaz', 'Toyota Innova', 'Tata Tiago', 'Maruti Alto K10', 'Jeep Compass', 'Maruti Baleno', 'Maruti Baleno', 'Maruti Celerio', 'Maruti Swift', 'Maruti Swift', 'Maruti Celerio', 'Maruti Swift', 'Maruti Swift', 'Maruti Ertiga', 'Maruti Alto', 'Maruti Ciaz', 'Maruti Ciaz', 'Maruti Alto', 'Maruti Baleno', 'Maruti Ciaz', 'Maruti Swift', 'Maruti Ciaz', 'Maruti Baleno', 'Maruti Swift', 'Maruti Ritz', 'Maruti Swift', 'Hyundai VENUE', 'Hyundai Creta', 'Hyundai i20', 'Hyundai VENUE', 'Hyundai i10', 'Hyundai Creta', 'Hyundai Creta', 'Hyundai Creta', 'Hyundai Verna', 'Hyundai Eon', 'Hyundai Creta', 'Hyundai Creta', 'Hyundai Creta', 'Hyundai Creta', 'Hyundai Creta', 'Hyundai Verna', 'Hyundai Creta', 'Hyundai i20', 'Hyundai Eon', 'Hyundai Eon', 'Honda City', 'Honda City', 'Honda Amaze', 'Honda City', 'Honda City', 'Honda Jazz', 'Honda City', 'Honda Amaze', 'Honda Jazz', 'Honda Amaze', 'Honda Amaze', 'Honda Amaze', 'Honda City', 'Honda Amaze', 'Honda Brio', 'Honda Amaze', 'Honda Jazz', 'Honda City', 'Honda Amaze', 'Honda Amaze']\n",
      "None\n",
      "80 ['588499', '418899', '605799', '244099', '1816919', '314199', '345899', '431399', '765899', '1324099', '1158649', '541699', '399199', '940399', '1151399', '964299', '710599', '246999', '1367499', '525699', '677299', '485699', '401299', '405799', '488499', '393499', '389999', '528899', '505399', '569299', '634599', '383999', '552399', '663299', '440299', '599119', '694199', '408499', '230399', '535099', '1162199', '824999', '270399', '990499', '201199', '901199', '843399', '863399', '435199', '262099', '825599', '783399', '1072199', '845999', '859099', '603199', '1220099', '312099', '316599', '256399', '1280299', '907299', '720399', '1249299', '778999', '601299', '365199', '307499', '1013799', '418899', '706199', '406199', '926599', '505599', '461399', '579899', '676799', '476599', '469499', '572399']\n",
      "None\n",
      "80 ['MAGNA 1.2 VTVT ', '1.2 EMT I VTEC ', 'SPORTZ (O) 1.2 AT VTVT ', 'LXI ', '200 CDI STYLE ', 'LXI ', 'K6+ 6 STR ', 'VXI AMT ', '1.5 TREND TI VCT ', '35TDI PREMIUM ', 'XDRIVE 20D ', 'ERA PETROL ', 'COMFORTLINE 1.2L PETROL ', 'ALPHA SHVS ', 'ALPHA 1.5 MT VTVT SHVS ', '2.5 VX 8 STR BS IV ', 'XTA 1.2 PETROL ', 'VXI ', '1.4 SPORT PETROL ', 'DELTA 1.2 K12 ', 'DELTA 1.2 K12 ', 'ZXI ', 'VXI ', 'VDI ABS ', 'VXI ', 'ZDI ', 'LDI BS IV ', 'VDI ABS ', 'LXI CNG ', 'VXI PLUS ', 'VDI+ SHVS ', 'VXI ', 'DELTA DDIS 190 ', 'DELTA 1.3 DDIS SHVS ', 'VDI ', 'VXI PLUS ', 'DELTA 1.2 K12 ', 'ZDI ', 'VDI ', 'VDI ABS ', 'SX(O) CRDi ', '1.4 E PLUS CRDI ', 'MAGNA O 1.2 ', '1.0L Turbo GDI SX MT ', 'MAGNA 1.2 ', '1.4 E PLUS CRDI ', '1.6 S ', '1.6 SX PLUS PETROL ', 'FLUIDIC 1.6 CRDI SX OPT ', 'MAGNA PLUS ', '1.6 S ', '1.4 S CRDI ', '1.6 CRDI SX PLUS AUTO ', '1.6 SX (O) CRDI ', '1.6 SX (O) CRDI ', 'FLUIDIC 1.6 CRDI S ', '1.6 SX CRDI ', 'ERA 1.4 CRDI ', 'MAGNA PLUS ', 'MAGNA PLUS ', 'ZX CVT ', 'V MT PETROL ', '1.2 SAT I VTEC ', 'VX CVT PETROL ', 'V MT PETROL ', '1.2 SV MT ', 'S MT PETROL ', '1.5 EMT I DTEC ', 'VX 1.2 CVT ', '1.2 EMT I VTEC ', '1.2 SAT I VTEC ', '1.2 EXMT I VTEC ', 'V AT ', '1.2 SX MT I VTEC ', '1.2 VX AT I VTEC ', '1.2 V MT I-VTEC ', '1.2 V AT ', 'SV MT DIESEL ', '1.2 SX MT I VTEC ', '1.2 EMT I VTEC ']\n",
      "None\n",
      "80 ['2020', '2013', '2017', '2010', '2015', '2011', '2017', '2016', '2019', '2014', '2013', '2021', '2015', '2018', '2021', '2014', '2021', '2012', '2019', '2018', '2019', '2018', '2014', '2015', '2018', '2014', '2015', '2013', '2021', '2016', '2017', '2019', '2016', '2017', '2015', '2016', '2020', '2014', '2013', '2017', '2021', '2018', '2010', '2021', '2009', '2018', '2016', '2015', '2013', '2014', '2015', '2017', '2018', '2015', '2015', '2015', '2019', '2013', '2016', '2015', '2020', '2019', '2018', '2020', '2017', '2018', '2010', '2013', '2021', '2013', '2018', '2014', '2018', '2016', '2015', '2019', '2018', '2014', '2014', '2019']\n",
      "None\n",
      "80 ['Manual', 'Manual', 'Automatic', 'Manual', 'Automatic', 'Manual', 'Manual', 'Automatic', 'Manual', 'Automatic', 'Automatic', 'Manual', 'Manual', 'Manual', 'Manual', 'Manual', 'Automatic', 'Manual', 'Manual', 'Manual', 'Manual', 'Manual', 'Manual', 'Manual', 'Manual', 'Manual', 'Manual', 'Manual', 'Manual', 'Manual', 'Manual', 'Manual', 'Manual', 'Manual', 'Manual', 'Manual', 'Manual', 'Manual', 'Manual', 'Manual', 'Manual', 'Manual', 'Manual', 'Manual', 'Manual', 'Manual', 'Manual', 'Manual', 'Manual', 'Manual', 'Manual', 'Manual', 'Automatic', 'Manual', 'Manual', 'Manual', 'Manual', 'Manual', 'Manual', 'Manual', 'Automatic', 'Manual', 'Automatic', 'Automatic', 'Manual', 'Manual', 'Manual', 'Manual', 'Automatic', 'Manual', 'Automatic', 'Manual', 'Automatic', 'Manual', 'Automatic', 'Manual', 'Automatic', 'Manual', 'Manual', 'Manual']\n",
      "None\n",
      "80 ['Petrol', 'Petrol', 'Petrol', 'Petrol', 'Diesel', 'Petrol', 'Petrol', 'Petrol', 'Petrol', 'Diesel', 'Diesel', 'Petrol', 'Petrol', 'Diesel', 'Petrol', 'Diesel', 'Petrol', 'Petrol', 'Petrol', 'Petrol', 'Petrol', 'Petrol', 'Petrol', 'Diesel', 'Petrol', 'Diesel', 'Diesel', 'Diesel', 'Petrol + CNG', 'Petrol', 'Diesel', 'Petrol', 'Diesel', 'Diesel', 'Diesel', 'Petrol', 'Petrol', 'Diesel', 'Diesel', 'Diesel', 'Diesel', 'Diesel', 'Petrol', 'Petrol', 'Petrol', 'Diesel', 'Petrol', 'Petrol', 'Diesel', 'Petrol', 'Petrol', 'Diesel', 'Diesel', 'Diesel', 'Diesel', 'Diesel', 'Diesel', 'Diesel', 'Petrol', 'Petrol', 'Petrol', 'Petrol', 'Petrol', 'Petrol', 'Petrol', 'Petrol', 'Petrol', 'Diesel', 'Petrol', 'Petrol', 'Petrol', 'Petrol', 'Petrol', 'Petrol', 'Petrol', 'Petrol', 'Petrol', 'Diesel', 'Petrol', 'Petrol']\n",
      "None\n",
      "80 ['13223', '31102', '12855', '48915', '29331', '23874', '51310', '21261', '43463', '34088', '71065', '42369', '93769', '55921', '9370', '82295', '6568', '59674', '42163', '23315', '11827', '31106', '61754', '61862', '12225', '92143', '49562', '49273', '26369', '98363', '83108', '37748', '69270', '55420', '30766', '57845', '21463', '73330', '56117', '46220', '14621', '65694', '42422', '29645', '65882', '31760', '26137', '69186', '60651', '46966', '49566', '85928', '79409', '53468', '56027', '47039', '21929', '38173', '37171', '124854', '12934', '41091', '17205', '29009', '26236', '23733', '94660', '48118', '6910', '31102', '29226', '85083', '32309', '47490', '34568', '35777', '30508', '79898', '17710', '17565']\n",
      "None\n",
      "80 ['2nd Owner', '1st Owner', '1st Owner', '2nd Owner', '1st Owner', '1st Owner', '1st Owner', '1st Owner', '1st Owner', '2nd Owner', '2nd Owner', '1st Owner', '1st Owner', '1st Owner', '1st Owner', '1st Owner', '1st Owner', '1st Owner', '2nd Owner', '3rd Owner', '1st Owner', '1st Owner', '2nd Owner', '2nd Owner', '1st Owner', '1st Owner', '1st Owner', '1st Owner', '1st Owner', '1st Owner', '1st Owner', '1st Owner', '1st Owner', '1st Owner', '1st Owner', '2nd Owner', '1st Owner', '1st Owner', '1st Owner', '1st Owner', '1st Owner', '1st Owner', '2nd Owner', '1st Owner', '1st Owner', '1st Owner', '1st Owner', '1st Owner', '1st Owner', '3rd Owner', '1st Owner', '1st Owner', '2nd Owner', '1st Owner', '1st Owner', '1st Owner', '1st Owner', '1st Owner', '1st Owner', '1st Owner', '1st Owner', '1st Owner', '1st Owner', '1st Owner', '1st Owner', '2nd Owner', '2nd Owner', '1st Owner', '1st Owner', '1st Owner', '1st Owner', '1st Owner', '1st Owner', '1st Owner', '1st Owner', '1st Owner', '1st Owner', '1st Owner', '1st Owner', '1st Owner']\n",
      "None\n"
     ]
    }
   ],
   "source": [
    "main()"
   ]
  },
  {
   "cell_type": "code",
   "execution_count": 267,
   "id": "ec31e33c",
   "metadata": {},
   "outputs": [],
   "source": [
    "driver.close()"
   ]
  },
  {
   "cell_type": "code",
   "execution_count": 275,
   "id": "19fbc9d8",
   "metadata": {},
   "outputs": [],
   "source": [
    "url='https://www.cars24.com/buy-used-car?sort=P&search=MARUTI%20SUZUKI&storeCityId=8597&pinId=560001'"
   ]
  },
  {
   "cell_type": "code",
   "execution_count": 278,
   "id": "9d0c9668",
   "metadata": {},
   "outputs": [],
   "source": [
    "#open web driver\n",
    "driver=webdriver.Chrome(r\"C:\\Users\\dell\\Downloads\\chromedriver_win32 (2)\\chromedriver.exe\")\n",
    "driver.get(url)"
   ]
  },
  {
   "cell_type": "code",
   "execution_count": 270,
   "id": "eccc5bc4",
   "metadata": {},
   "outputs": [
    {
     "name": "stdout",
     "output_type": "stream",
     "text": [
      "100 ['Hyundai Grand i10', 'Honda Amaze', 'Hyundai Grand i10', 'Maruti Wagon R 1.0', 'Mercedes Benz GLA Class', 'Maruti Swift', 'Mahindra Kuv100', 'Maruti Wagon R 1.0', 'Ford Ecosport', 'Audi A3', 'BMW X3', 'Hyundai GRAND I10 NIOS', 'Volkswagen Polo', 'Maruti S Cross', 'Maruti Ciaz', 'Toyota Innova', 'Tata Tiago', 'Maruti Alto K10', 'Jeep Compass', 'Maruti Baleno', 'Maruti Baleno', 'Maruti Celerio', 'Maruti Swift', 'Maruti Swift', 'Maruti Celerio', 'Maruti Swift', 'Maruti Swift', 'Maruti Ertiga', 'Maruti Alto', 'Maruti Ciaz', 'Maruti Ciaz', 'Maruti Alto', 'Maruti Baleno', 'Maruti Ciaz', 'Maruti Swift', 'Maruti Ciaz', 'Maruti Baleno', 'Maruti Swift', 'Maruti Ritz', 'Maruti Swift', 'Hyundai VENUE', 'Hyundai Creta', 'Hyundai i20', 'Hyundai VENUE', 'Hyundai i10', 'Hyundai Creta', 'Hyundai Creta', 'Hyundai Creta', 'Hyundai Verna', 'Hyundai Eon', 'Hyundai Creta', 'Hyundai Creta', 'Hyundai Creta', 'Hyundai Creta', 'Hyundai Creta', 'Hyundai Verna', 'Hyundai Creta', 'Hyundai i20', 'Hyundai Eon', 'Hyundai Eon', 'Honda City', 'Honda City', 'Honda Amaze', 'Honda City', 'Honda City', 'Honda Jazz', 'Honda City', 'Honda Amaze', 'Honda Jazz', 'Honda Amaze', 'Honda Amaze', 'Honda Amaze', 'Honda City', 'Honda Amaze', 'Honda Brio', 'Honda Amaze', 'Honda Jazz', 'Honda City', 'Honda Amaze', 'Honda Amaze', 'Maruti Swift', 'Maruti Ritz', 'Maruti Swift', 'Maruti Baleno', 'Maruti Celerio', 'Maruti Swift', 'Maruti Dzire', 'Maruti Swift', 'Maruti Celerio', 'Maruti Dzire', 'Maruti IGNIS', 'Maruti Celerio', 'Maruti IGNIS', 'Maruti Eeco', 'Maruti Celerio', 'Maruti Alto', 'Maruti Alto', 'Maruti Swift', 'Maruti Baleno', 'Maruti Dzire']\n",
      "None\n",
      "100 ['588499', '418899', '605799', '244099', '1816919', '314199', '345899', '431399', '765899', '1324099', '1158649', '541699', '399199', '940399', '1151399', '964299', '710599', '246999', '1367499', '525699', '677299', '485699', '401299', '405799', '488499', '393499', '389999', '528899', '505399', '569299', '634599', '383999', '552399', '663299', '440299', '599119', '694199', '408499', '230399', '535099', '1162199', '824999', '270399', '990499', '201199', '901199', '843399', '863399', '435199', '262099', '825599', '783399', '1072199', '845999', '859099', '603199', '1220099', '312099', '316599', '256399', '1280299', '907299', '720399', '1249299', '778999', '601299', '365199', '307499', '1013799', '418899', '706199', '406199', '926599', '505599', '461399', '579899', '676799', '476599', '469499', '572399', '590099', '360799', '720999', '625599', '484199', '677599', '759199', '493499', '431999', '710199', '590868', '547099', '815199', '468019', '499799', '192399', '413999', '508699', '702999', '688799']\n",
      "None\n",
      "100 ['MAGNA 1.2 VTVT ', '1.2 EMT I VTEC ', 'SPORTZ (O) 1.2 AT VTVT ', 'LXI ', '200 CDI STYLE ', 'LXI ', 'K6+ 6 STR ', 'VXI AMT ', '1.5 TREND TI VCT ', '35TDI PREMIUM ', 'XDRIVE 20D ', 'ERA PETROL ', 'COMFORTLINE 1.2L PETROL ', 'ALPHA SHVS ', 'ALPHA 1.5 MT VTVT SHVS ', '2.5 VX 8 STR BS IV ', 'XTA 1.2 PETROL ', 'VXI ', '1.4 SPORT PETROL ', 'DELTA 1.2 K12 ', 'DELTA 1.2 K12 ', 'ZXI ', 'VXI ', 'VDI ABS ', 'VXI ', 'ZDI ', 'LDI BS IV ', 'VDI ABS ', 'LXI CNG ', 'VXI PLUS ', 'VDI+ SHVS ', 'VXI ', 'DELTA DDIS 190 ', 'DELTA 1.3 DDIS SHVS ', 'VDI ', 'VXI PLUS ', 'DELTA 1.2 K12 ', 'ZDI ', 'VDI ', 'VDI ABS ', 'SX(O) CRDi ', '1.4 E PLUS CRDI ', 'MAGNA O 1.2 ', '1.0L Turbo GDI SX MT ', 'MAGNA 1.2 ', '1.4 E PLUS CRDI ', '1.6 S ', '1.6 SX PLUS PETROL ', 'FLUIDIC 1.6 CRDI SX OPT ', 'MAGNA PLUS ', '1.6 S ', '1.4 S CRDI ', '1.6 CRDI SX PLUS AUTO ', '1.6 SX (O) CRDI ', '1.6 SX (O) CRDI ', 'FLUIDIC 1.6 CRDI S ', '1.6 SX CRDI ', 'ERA 1.4 CRDI ', 'MAGNA PLUS ', 'MAGNA PLUS ', 'ZX CVT ', 'V MT PETROL ', '1.2 SAT I VTEC ', 'VX CVT PETROL ', 'V MT PETROL ', '1.2 SV MT ', 'S MT PETROL ', '1.5 EMT I DTEC ', 'VX 1.2 CVT ', '1.2 EMT I VTEC ', '1.2 SAT I VTEC ', '1.2 EXMT I VTEC ', 'V AT ', '1.2 SX MT I VTEC ', '1.2 VX AT I VTEC ', '1.2 V MT I-VTEC ', '1.2 V AT ', 'SV MT DIESEL ', '1.2 SX MT I VTEC ', '1.2 EMT I VTEC ', 'VXI ', 'VXI BS IV ', 'ZXI AMT ', 'DELTA 1.2 K12 ', 'VXI ', 'VDI ', 'ZDI Plus AMT ', 'VXI ', 'VXI ', 'VXI ', 'ZETA 1.2 K12 ', 'VXI (O) AMT ', 'ZETA 1.2 K12 AMT ', '5 STR WITH AC PLUSHTR ', 'ZXI OPT AMT ', 'LXI ', 'LXI ', 'VXI ', 'DELTA 1.2 K12 ', 'VXI ']\n",
      "None\n",
      "100 ['2020', '2013', '2017', '2010', '2015', '2011', '2017', '2016', '2019', '2014', '2013', '2021', '2015', '2018', '2021', '2014', '2021', '2012', '2019', '2018', '2019', '2018', '2014', '2015', '2018', '2014', '2015', '2013', '2021', '2016', '2017', '2019', '2016', '2017', '2015', '2016', '2020', '2014', '2013', '2017', '2021', '2018', '2010', '2021', '2009', '2018', '2016', '2015', '2013', '2014', '2015', '2017', '2018', '2015', '2015', '2015', '2019', '2013', '2016', '2015', '2020', '2019', '2018', '2020', '2017', '2018', '2010', '2013', '2021', '2013', '2018', '2014', '2018', '2016', '2015', '2019', '2018', '2014', '2014', '2019', '2019', '2012', '2018', '2016', '2016', '2018', '2017', '2014', '2015', '2018', '2018', '2016', '2021', '2019', '2017', '2008', '2020', '2016', '2019', '2018']\n",
      "None\n",
      "100 ['Manual', 'Manual', 'Automatic', 'Manual', 'Automatic', 'Manual', 'Manual', 'Automatic', 'Manual', 'Automatic', 'Automatic', 'Manual', 'Manual', 'Manual', 'Manual', 'Manual', 'Automatic', 'Manual', 'Manual', 'Manual', 'Manual', 'Manual', 'Manual', 'Manual', 'Manual', 'Manual', 'Manual', 'Manual', 'Manual', 'Manual', 'Manual', 'Manual', 'Manual', 'Manual', 'Manual', 'Manual', 'Manual', 'Manual', 'Manual', 'Manual', 'Manual', 'Manual', 'Manual', 'Manual', 'Manual', 'Manual', 'Manual', 'Manual', 'Manual', 'Manual', 'Manual', 'Manual', 'Automatic', 'Manual', 'Manual', 'Manual', 'Manual', 'Manual', 'Manual', 'Manual', 'Automatic', 'Manual', 'Automatic', 'Automatic', 'Manual', 'Manual', 'Manual', 'Manual', 'Automatic', 'Manual', 'Automatic', 'Manual', 'Automatic', 'Manual', 'Automatic', 'Manual', 'Automatic', 'Manual', 'Manual', 'Manual', 'Manual', 'Manual', 'Automatic', 'Manual', 'Manual', 'Manual', 'Automatic', 'Manual', 'Manual', 'Manual', 'Manual', 'Automatic', 'Automatic', 'Manual', 'Automatic', 'Manual', 'Manual', 'Manual', 'Manual', 'Manual']\n",
      "None\n",
      "100 ['Petrol', 'Petrol', 'Petrol', 'Petrol', 'Diesel', 'Petrol', 'Petrol', 'Petrol', 'Petrol', 'Diesel', 'Diesel', 'Petrol', 'Petrol', 'Diesel', 'Petrol', 'Diesel', 'Petrol', 'Petrol', 'Petrol', 'Petrol', 'Petrol', 'Petrol', 'Petrol', 'Diesel', 'Petrol', 'Diesel', 'Diesel', 'Diesel', 'Petrol + CNG', 'Petrol', 'Diesel', 'Petrol', 'Diesel', 'Diesel', 'Diesel', 'Petrol', 'Petrol', 'Diesel', 'Diesel', 'Diesel', 'Diesel', 'Diesel', 'Petrol', 'Petrol', 'Petrol', 'Diesel', 'Petrol', 'Petrol', 'Diesel', 'Petrol', 'Petrol', 'Diesel', 'Diesel', 'Diesel', 'Diesel', 'Diesel', 'Diesel', 'Diesel', 'Petrol', 'Petrol', 'Petrol', 'Petrol', 'Petrol', 'Petrol', 'Petrol', 'Petrol', 'Petrol', 'Diesel', 'Petrol', 'Petrol', 'Petrol', 'Petrol', 'Petrol', 'Petrol', 'Petrol', 'Petrol', 'Petrol', 'Diesel', 'Petrol', 'Petrol', 'Petrol', 'Petrol', 'Petrol', 'Petrol', 'Petrol', 'Diesel', 'Diesel', 'Petrol', 'Petrol', 'Petrol', 'Petrol', 'Petrol', 'Petrol', 'Petrol', 'Petrol', 'Petrol', 'Petrol', 'Petrol', 'Petrol', 'Petrol']\n",
      "None\n",
      "100 ['13223', '31102', '12855', '48915', '29331', '23874', '51310', '21261', '43463', '34088', '71065', '42369', '93769', '55921', '9370', '82295', '6568', '59674', '42163', '23315', '11827', '31106', '61754', '61862', '12225', '92143', '49562', '49273', '26369', '98363', '83108', '37748', '69270', '55420', '30766', '57845', '21463', '73330', '56117', '46220', '14621', '65694', '42422', '29645', '65882', '31760', '26137', '69186', '60651', '46966', '49566', '85928', '79409', '53468', '56027', '47039', '21929', '38173', '37171', '124854', '12934', '41091', '17205', '29009', '26236', '23733', '94660', '48118', '6910', '31102', '29226', '85083', '32309', '47490', '34568', '35777', '30508', '79898', '17710', '17565', '14099', '60268', '21603', '42788', '24938', '77606', '69085', '51781', '49571', '14758', '22384', '29472', '6005', '9227', '71444', '46558', '12428', '20247', '28310', '35949']\n",
      "None\n",
      "100 ['2nd Owner', '1st Owner', '1st Owner', '2nd Owner', '1st Owner', '1st Owner', '1st Owner', '1st Owner', '1st Owner', '2nd Owner', '2nd Owner', '1st Owner', '1st Owner', '1st Owner', '1st Owner', '1st Owner', '1st Owner', '1st Owner', '2nd Owner', '3rd Owner', '1st Owner', '1st Owner', '2nd Owner', '2nd Owner', '1st Owner', '1st Owner', '1st Owner', '1st Owner', '1st Owner', '1st Owner', '1st Owner', '1st Owner', '1st Owner', '1st Owner', '1st Owner', '2nd Owner', '1st Owner', '1st Owner', '1st Owner', '1st Owner', '1st Owner', '1st Owner', '2nd Owner', '1st Owner', '1st Owner', '1st Owner', '1st Owner', '1st Owner', '1st Owner', '3rd Owner', '1st Owner', '1st Owner', '2nd Owner', '1st Owner', '1st Owner', '1st Owner', '1st Owner', '1st Owner', '1st Owner', '1st Owner', '1st Owner', '1st Owner', '1st Owner', '1st Owner', '1st Owner', '2nd Owner', '2nd Owner', '1st Owner', '1st Owner', '1st Owner', '1st Owner', '1st Owner', '1st Owner', '1st Owner', '1st Owner', '1st Owner', '1st Owner', '1st Owner', '1st Owner', '1st Owner', '1st Owner', '2nd Owner', '1st Owner', '1st Owner', '1st Owner', '1st Owner', '1st Owner', '1st Owner', '2nd Owner', '1st Owner', '1st Owner', '1st Owner', '1st Owner', '1st Owner', '1st Owner', '2nd Owner', '1st Owner', '2nd Owner', '1st Owner', '1st Owner']\n",
      "None\n"
     ]
    }
   ],
   "source": [
    "main()"
   ]
  },
  {
   "cell_type": "code",
   "execution_count": 271,
   "id": "84521824",
   "metadata": {},
   "outputs": [],
   "source": [
    "driver.close()"
   ]
  },
  {
   "cell_type": "markdown",
   "id": "e8c986ce",
   "metadata": {},
   "source": [
    "### Make dataset"
   ]
  },
  {
   "cell_type": "code",
   "execution_count": 272,
   "id": "b4a3d632",
   "metadata": {},
   "outputs": [
    {
     "data": {
      "text/html": [
       "<div>\n",
       "<style scoped>\n",
       "    .dataframe tbody tr th:only-of-type {\n",
       "        vertical-align: middle;\n",
       "    }\n",
       "\n",
       "    .dataframe tbody tr th {\n",
       "        vertical-align: top;\n",
       "    }\n",
       "\n",
       "    .dataframe thead th {\n",
       "        text-align: right;\n",
       "    }\n",
       "</style>\n",
       "<table border=\"1\" class=\"dataframe\">\n",
       "  <thead>\n",
       "    <tr style=\"text-align: right;\">\n",
       "      <th></th>\n",
       "      <th>Car_Brand</th>\n",
       "      <th>Manufacturing_Year</th>\n",
       "      <th>Car_Model</th>\n",
       "      <th>Car_Variant</th>\n",
       "      <th>Driven_Kilometers</th>\n",
       "      <th>Fuel</th>\n",
       "      <th>Number_of_owners</th>\n",
       "      <th>Car_Price</th>\n",
       "    </tr>\n",
       "  </thead>\n",
       "  <tbody>\n",
       "    <tr>\n",
       "      <th>0</th>\n",
       "      <td>Hyundai Grand i10</td>\n",
       "      <td>2020</td>\n",
       "      <td>MAGNA 1.2 VTVT</td>\n",
       "      <td>Manual</td>\n",
       "      <td>13223</td>\n",
       "      <td>Petrol</td>\n",
       "      <td>2nd Owner</td>\n",
       "      <td>588499</td>\n",
       "    </tr>\n",
       "    <tr>\n",
       "      <th>1</th>\n",
       "      <td>Honda Amaze</td>\n",
       "      <td>2013</td>\n",
       "      <td>1.2 EMT I VTEC</td>\n",
       "      <td>Manual</td>\n",
       "      <td>31102</td>\n",
       "      <td>Petrol</td>\n",
       "      <td>1st Owner</td>\n",
       "      <td>418899</td>\n",
       "    </tr>\n",
       "    <tr>\n",
       "      <th>2</th>\n",
       "      <td>Hyundai Grand i10</td>\n",
       "      <td>2017</td>\n",
       "      <td>SPORTZ (O) 1.2 AT VTVT</td>\n",
       "      <td>Automatic</td>\n",
       "      <td>12855</td>\n",
       "      <td>Petrol</td>\n",
       "      <td>1st Owner</td>\n",
       "      <td>605799</td>\n",
       "    </tr>\n",
       "    <tr>\n",
       "      <th>3</th>\n",
       "      <td>Maruti Wagon R 1.0</td>\n",
       "      <td>2010</td>\n",
       "      <td>LXI</td>\n",
       "      <td>Manual</td>\n",
       "      <td>48915</td>\n",
       "      <td>Petrol</td>\n",
       "      <td>2nd Owner</td>\n",
       "      <td>244099</td>\n",
       "    </tr>\n",
       "    <tr>\n",
       "      <th>4</th>\n",
       "      <td>Mercedes Benz GLA Class</td>\n",
       "      <td>2015</td>\n",
       "      <td>200 CDI STYLE</td>\n",
       "      <td>Automatic</td>\n",
       "      <td>29331</td>\n",
       "      <td>Diesel</td>\n",
       "      <td>1st Owner</td>\n",
       "      <td>1816919</td>\n",
       "    </tr>\n",
       "    <tr>\n",
       "      <th>...</th>\n",
       "      <td>...</td>\n",
       "      <td>...</td>\n",
       "      <td>...</td>\n",
       "      <td>...</td>\n",
       "      <td>...</td>\n",
       "      <td>...</td>\n",
       "      <td>...</td>\n",
       "      <td>...</td>\n",
       "    </tr>\n",
       "    <tr>\n",
       "      <th>95</th>\n",
       "      <td>Maruti Alto</td>\n",
       "      <td>2008</td>\n",
       "      <td>LXI</td>\n",
       "      <td>Manual</td>\n",
       "      <td>46558</td>\n",
       "      <td>Petrol</td>\n",
       "      <td>2nd Owner</td>\n",
       "      <td>192399</td>\n",
       "    </tr>\n",
       "    <tr>\n",
       "      <th>96</th>\n",
       "      <td>Maruti Alto</td>\n",
       "      <td>2020</td>\n",
       "      <td>LXI</td>\n",
       "      <td>Manual</td>\n",
       "      <td>12428</td>\n",
       "      <td>Petrol</td>\n",
       "      <td>1st Owner</td>\n",
       "      <td>413999</td>\n",
       "    </tr>\n",
       "    <tr>\n",
       "      <th>97</th>\n",
       "      <td>Maruti Swift</td>\n",
       "      <td>2016</td>\n",
       "      <td>VXI</td>\n",
       "      <td>Manual</td>\n",
       "      <td>20247</td>\n",
       "      <td>Petrol</td>\n",
       "      <td>2nd Owner</td>\n",
       "      <td>508699</td>\n",
       "    </tr>\n",
       "    <tr>\n",
       "      <th>98</th>\n",
       "      <td>Maruti Baleno</td>\n",
       "      <td>2019</td>\n",
       "      <td>DELTA 1.2 K12</td>\n",
       "      <td>Manual</td>\n",
       "      <td>28310</td>\n",
       "      <td>Petrol</td>\n",
       "      <td>1st Owner</td>\n",
       "      <td>702999</td>\n",
       "    </tr>\n",
       "    <tr>\n",
       "      <th>99</th>\n",
       "      <td>Maruti Dzire</td>\n",
       "      <td>2018</td>\n",
       "      <td>VXI</td>\n",
       "      <td>Manual</td>\n",
       "      <td>35949</td>\n",
       "      <td>Petrol</td>\n",
       "      <td>1st Owner</td>\n",
       "      <td>688799</td>\n",
       "    </tr>\n",
       "  </tbody>\n",
       "</table>\n",
       "<p>100 rows × 8 columns</p>\n",
       "</div>"
      ],
      "text/plain": [
       "                  Car_Brand Manufacturing_Year                Car_Model  \\\n",
       "0         Hyundai Grand i10               2020          MAGNA 1.2 VTVT    \n",
       "1               Honda Amaze               2013          1.2 EMT I VTEC    \n",
       "2         Hyundai Grand i10               2017  SPORTZ (O) 1.2 AT VTVT    \n",
       "3        Maruti Wagon R 1.0               2010                     LXI    \n",
       "4   Mercedes Benz GLA Class               2015           200 CDI STYLE    \n",
       "..                      ...                ...                      ...   \n",
       "95              Maruti Alto               2008                     LXI    \n",
       "96              Maruti Alto               2020                     LXI    \n",
       "97             Maruti Swift               2016                     VXI    \n",
       "98            Maruti Baleno               2019           DELTA 1.2 K12    \n",
       "99             Maruti Dzire               2018                     VXI    \n",
       "\n",
       "   Car_Variant Driven_Kilometers    Fuel Number_of_owners Car_Price  \n",
       "0       Manual             13223  Petrol        2nd Owner    588499  \n",
       "1       Manual             31102  Petrol        1st Owner    418899  \n",
       "2    Automatic             12855  Petrol        1st Owner    605799  \n",
       "3       Manual             48915  Petrol        2nd Owner    244099  \n",
       "4    Automatic             29331  Diesel        1st Owner   1816919  \n",
       "..         ...               ...     ...              ...       ...  \n",
       "95      Manual             46558  Petrol        2nd Owner    192399  \n",
       "96      Manual             12428  Petrol        1st Owner    413999  \n",
       "97      Manual             20247  Petrol        2nd Owner    508699  \n",
       "98      Manual             28310  Petrol        1st Owner    702999  \n",
       "99      Manual             35949  Petrol        1st Owner    688799  \n",
       "\n",
       "[100 rows x 8 columns]"
      ]
     },
     "execution_count": 272,
     "metadata": {},
     "output_type": "execute_result"
    }
   ],
   "source": [
    "#Make dataframe\n",
    "df=pd.DataFrame()\n",
    "df['Car_Brand']=brand\n",
    "df['Manufacturing_Year']=year\n",
    "df['Car_Model']=model\n",
    "df['Car_Variant']=variant\n",
    "df['Driven_Kilometers']=driven_kilometers\n",
    "df['Fuel']=fuel\n",
    "df['Number_of_owners']=number_of_owners\n",
    "df['Car_Price']=price\n",
    "df"
   ]
  },
  {
   "cell_type": "code",
   "execution_count": 279,
   "id": "698f6d9a",
   "metadata": {},
   "outputs": [
    {
     "data": {
      "text/html": [
       "<div>\n",
       "<style scoped>\n",
       "    .dataframe tbody tr th:only-of-type {\n",
       "        vertical-align: middle;\n",
       "    }\n",
       "\n",
       "    .dataframe tbody tr th {\n",
       "        vertical-align: top;\n",
       "    }\n",
       "\n",
       "    .dataframe thead th {\n",
       "        text-align: right;\n",
       "    }\n",
       "</style>\n",
       "<table border=\"1\" class=\"dataframe\">\n",
       "  <thead>\n",
       "    <tr style=\"text-align: right;\">\n",
       "      <th></th>\n",
       "      <th>Car_Brand</th>\n",
       "      <th>Manufacturing_Year</th>\n",
       "      <th>Car_Model</th>\n",
       "      <th>Car_Variant</th>\n",
       "      <th>Driven_Kilometers</th>\n",
       "      <th>Fuel</th>\n",
       "      <th>Number_of_owners</th>\n",
       "      <th>Car_Price</th>\n",
       "    </tr>\n",
       "  </thead>\n",
       "  <tbody>\n",
       "    <tr>\n",
       "      <th>0</th>\n",
       "      <td>Hyundai Grand i10</td>\n",
       "      <td>2020</td>\n",
       "      <td>MAGNA 1.2 VTVT</td>\n",
       "      <td>Manual</td>\n",
       "      <td>13223</td>\n",
       "      <td>Petrol</td>\n",
       "      <td>2nd Owner</td>\n",
       "      <td>588499</td>\n",
       "    </tr>\n",
       "    <tr>\n",
       "      <th>1</th>\n",
       "      <td>Honda Amaze</td>\n",
       "      <td>2013</td>\n",
       "      <td>1.2 EMT I VTEC</td>\n",
       "      <td>Manual</td>\n",
       "      <td>31102</td>\n",
       "      <td>Petrol</td>\n",
       "      <td>1st Owner</td>\n",
       "      <td>418899</td>\n",
       "    </tr>\n",
       "    <tr>\n",
       "      <th>2</th>\n",
       "      <td>Hyundai Grand i10</td>\n",
       "      <td>2017</td>\n",
       "      <td>SPORTZ (O) 1.2 AT VTVT</td>\n",
       "      <td>Automatic</td>\n",
       "      <td>12855</td>\n",
       "      <td>Petrol</td>\n",
       "      <td>1st Owner</td>\n",
       "      <td>605799</td>\n",
       "    </tr>\n",
       "    <tr>\n",
       "      <th>3</th>\n",
       "      <td>Maruti Wagon R 1.0</td>\n",
       "      <td>2010</td>\n",
       "      <td>LXI</td>\n",
       "      <td>Manual</td>\n",
       "      <td>48915</td>\n",
       "      <td>Petrol</td>\n",
       "      <td>2nd Owner</td>\n",
       "      <td>244099</td>\n",
       "    </tr>\n",
       "    <tr>\n",
       "      <th>4</th>\n",
       "      <td>Mercedes Benz GLA Class</td>\n",
       "      <td>2015</td>\n",
       "      <td>200 CDI STYLE</td>\n",
       "      <td>Automatic</td>\n",
       "      <td>29331</td>\n",
       "      <td>Diesel</td>\n",
       "      <td>1st Owner</td>\n",
       "      <td>1816919</td>\n",
       "    </tr>\n",
       "  </tbody>\n",
       "</table>\n",
       "</div>"
      ],
      "text/plain": [
       "                 Car_Brand Manufacturing_Year                Car_Model  \\\n",
       "0        Hyundai Grand i10               2020          MAGNA 1.2 VTVT    \n",
       "1              Honda Amaze               2013          1.2 EMT I VTEC    \n",
       "2        Hyundai Grand i10               2017  SPORTZ (O) 1.2 AT VTVT    \n",
       "3       Maruti Wagon R 1.0               2010                     LXI    \n",
       "4  Mercedes Benz GLA Class               2015           200 CDI STYLE    \n",
       "\n",
       "  Car_Variant Driven_Kilometers    Fuel Number_of_owners Car_Price  \n",
       "0      Manual             13223  Petrol        2nd Owner    588499  \n",
       "1      Manual             31102  Petrol        1st Owner    418899  \n",
       "2   Automatic             12855  Petrol        1st Owner    605799  \n",
       "3      Manual             48915  Petrol        2nd Owner    244099  \n",
       "4   Automatic             29331  Diesel        1st Owner   1816919  "
      ]
     },
     "execution_count": 279,
     "metadata": {},
     "output_type": "execute_result"
    }
   ],
   "source": [
    "df.head()"
   ]
  },
  {
   "cell_type": "code",
   "execution_count": 274,
   "id": "90cdf38f",
   "metadata": {},
   "outputs": [],
   "source": [
    "df.to_csv('car_price.csv')"
   ]
  },
  {
   "cell_type": "markdown",
   "id": "a848f3d6",
   "metadata": {},
   "source": [
    "### 2. Model Building Phase"
   ]
  },
  {
   "cell_type": "code",
   "execution_count": 280,
   "id": "a8c7d392",
   "metadata": {},
   "outputs": [],
   "source": [
    "#import all needed libraries\n",
    "import numpy as np\n",
    "import pandas as pd\n",
    "import matplotlib.pyplot as plt\n",
    "import seaborn as sns\n",
    "\n",
    "import warnings\n",
    "warnings.filterwarnings('ignore')"
   ]
  },
  {
   "cell_type": "code",
   "execution_count": 281,
   "id": "1f31c6a4",
   "metadata": {},
   "outputs": [],
   "source": [
    "#read csv file\n",
    "df=pd.read_csv('car_price.csv')"
   ]
  },
  {
   "cell_type": "code",
   "execution_count": 282,
   "id": "2a61f932",
   "metadata": {},
   "outputs": [
    {
     "data": {
      "text/html": [
       "<div>\n",
       "<style scoped>\n",
       "    .dataframe tbody tr th:only-of-type {\n",
       "        vertical-align: middle;\n",
       "    }\n",
       "\n",
       "    .dataframe tbody tr th {\n",
       "        vertical-align: top;\n",
       "    }\n",
       "\n",
       "    .dataframe thead th {\n",
       "        text-align: right;\n",
       "    }\n",
       "</style>\n",
       "<table border=\"1\" class=\"dataframe\">\n",
       "  <thead>\n",
       "    <tr style=\"text-align: right;\">\n",
       "      <th></th>\n",
       "      <th>Unnamed: 0</th>\n",
       "      <th>Car_Brand</th>\n",
       "      <th>Manufacturing_Year</th>\n",
       "      <th>Car_Model</th>\n",
       "      <th>Car_Variant</th>\n",
       "      <th>Driven_Kilometers</th>\n",
       "      <th>Fuel</th>\n",
       "      <th>Number_of_owners</th>\n",
       "      <th>Car_Price</th>\n",
       "    </tr>\n",
       "  </thead>\n",
       "  <tbody>\n",
       "    <tr>\n",
       "      <th>0</th>\n",
       "      <td>0</td>\n",
       "      <td>Hyundai Grand i10</td>\n",
       "      <td>2020</td>\n",
       "      <td>MAGNA 1.2 VTVT</td>\n",
       "      <td>Manual</td>\n",
       "      <td>13223</td>\n",
       "      <td>Petrol</td>\n",
       "      <td>2nd Owner</td>\n",
       "      <td>588499</td>\n",
       "    </tr>\n",
       "    <tr>\n",
       "      <th>1</th>\n",
       "      <td>1</td>\n",
       "      <td>Honda Amaze</td>\n",
       "      <td>2013</td>\n",
       "      <td>1.2 EMT I VTEC</td>\n",
       "      <td>Manual</td>\n",
       "      <td>31102</td>\n",
       "      <td>Petrol</td>\n",
       "      <td>1st Owner</td>\n",
       "      <td>418899</td>\n",
       "    </tr>\n",
       "    <tr>\n",
       "      <th>2</th>\n",
       "      <td>2</td>\n",
       "      <td>Hyundai Grand i10</td>\n",
       "      <td>2017</td>\n",
       "      <td>SPORTZ (O) 1.2 AT VTVT</td>\n",
       "      <td>Automatic</td>\n",
       "      <td>12855</td>\n",
       "      <td>Petrol</td>\n",
       "      <td>1st Owner</td>\n",
       "      <td>605799</td>\n",
       "    </tr>\n",
       "    <tr>\n",
       "      <th>3</th>\n",
       "      <td>3</td>\n",
       "      <td>Maruti Wagon R 1.0</td>\n",
       "      <td>2010</td>\n",
       "      <td>LXI</td>\n",
       "      <td>Manual</td>\n",
       "      <td>48915</td>\n",
       "      <td>Petrol</td>\n",
       "      <td>2nd Owner</td>\n",
       "      <td>244099</td>\n",
       "    </tr>\n",
       "    <tr>\n",
       "      <th>4</th>\n",
       "      <td>4</td>\n",
       "      <td>Mercedes Benz GLA Class</td>\n",
       "      <td>2015</td>\n",
       "      <td>200 CDI STYLE</td>\n",
       "      <td>Automatic</td>\n",
       "      <td>29331</td>\n",
       "      <td>Diesel</td>\n",
       "      <td>1st Owner</td>\n",
       "      <td>1816919</td>\n",
       "    </tr>\n",
       "  </tbody>\n",
       "</table>\n",
       "</div>"
      ],
      "text/plain": [
       "   Unnamed: 0                Car_Brand  Manufacturing_Year  \\\n",
       "0           0        Hyundai Grand i10                2020   \n",
       "1           1              Honda Amaze                2013   \n",
       "2           2        Hyundai Grand i10                2017   \n",
       "3           3       Maruti Wagon R 1.0                2010   \n",
       "4           4  Mercedes Benz GLA Class                2015   \n",
       "\n",
       "                 Car_Model Car_Variant  Driven_Kilometers    Fuel  \\\n",
       "0          MAGNA 1.2 VTVT       Manual              13223  Petrol   \n",
       "1          1.2 EMT I VTEC       Manual              31102  Petrol   \n",
       "2  SPORTZ (O) 1.2 AT VTVT    Automatic              12855  Petrol   \n",
       "3                     LXI       Manual              48915  Petrol   \n",
       "4           200 CDI STYLE    Automatic              29331  Diesel   \n",
       "\n",
       "  Number_of_owners  Car_Price  \n",
       "0        2nd Owner     588499  \n",
       "1        1st Owner     418899  \n",
       "2        1st Owner     605799  \n",
       "3        2nd Owner     244099  \n",
       "4        1st Owner    1816919  "
      ]
     },
     "execution_count": 282,
     "metadata": {},
     "output_type": "execute_result"
    }
   ],
   "source": [
    "df.head()"
   ]
  },
  {
   "cell_type": "code",
   "execution_count": 284,
   "id": "601a4ead",
   "metadata": {},
   "outputs": [
    {
     "data": {
      "text/plain": [
       "Index(['Unnamed: 0', 'Car_Brand', 'Manufacturing_Year', 'Car_Model',\n",
       "       'Car_Variant', 'Driven_Kilometers', 'Fuel', 'Number_of_owners',\n",
       "       'Car_Price'],\n",
       "      dtype='object')"
      ]
     },
     "execution_count": 284,
     "metadata": {},
     "output_type": "execute_result"
    }
   ],
   "source": [
    "#columns\n",
    "df.columns"
   ]
  },
  {
   "cell_type": "code",
   "execution_count": 285,
   "id": "1a5772e6",
   "metadata": {},
   "outputs": [],
   "source": [
    "df.drop('Unnamed: 0',inplace=True,axis=1)#just an sequence number"
   ]
  },
  {
   "cell_type": "markdown",
   "id": "790ec630",
   "metadata": {},
   "source": [
    "##### About columns:"
   ]
  },
  {
   "cell_type": "markdown",
   "id": "72c83d3c",
   "metadata": {},
   "source": [
    "###### 1. Car Brand"
   ]
  },
  {
   "cell_type": "markdown",
   "id": "3bd916ab",
   "metadata": {},
   "source": [
    "In this column contain name of the car brand"
   ]
  },
  {
   "cell_type": "markdown",
   "id": "cac17b72",
   "metadata": {},
   "source": [
    "###### 2. Manufacturing_Year"
   ]
  },
  {
   "cell_type": "markdown",
   "id": "d477b9e4",
   "metadata": {},
   "source": [
    "In this column contain Manufacturing Year of car"
   ]
  },
  {
   "cell_type": "markdown",
   "id": "d4121cd5",
   "metadata": {},
   "source": [
    "###### 3. Car_Model"
   ]
  },
  {
   "cell_type": "markdown",
   "id": "960af205",
   "metadata": {},
   "source": [
    "In this column contain the Car Model"
   ]
  },
  {
   "cell_type": "markdown",
   "id": "f8324e64",
   "metadata": {},
   "source": [
    "###### 4. Car_Variant"
   ]
  },
  {
   "cell_type": "markdown",
   "id": "13ce76e6",
   "metadata": {},
   "source": [
    "In this column contain the Car Variant like Automatic or Manual"
   ]
  },
  {
   "cell_type": "markdown",
   "id": "1229ed62",
   "metadata": {},
   "source": [
    "###### 5. Driven_Kilometers"
   ]
  },
  {
   "cell_type": "markdown",
   "id": "e085fbff",
   "metadata": {},
   "source": [
    "In this column contain the Driven Kilometers means how many kilometers the car is run"
   ]
  },
  {
   "cell_type": "markdown",
   "id": "a4592b51",
   "metadata": {},
   "source": [
    "###### 6. Fuel"
   ]
  },
  {
   "cell_type": "markdown",
   "id": "adc68cbc",
   "metadata": {},
   "source": [
    "Which type of fuel is used for that car"
   ]
  },
  {
   "cell_type": "markdown",
   "id": "773d0cfc",
   "metadata": {},
   "source": [
    "###### 7. Number_of_owners"
   ]
  },
  {
   "cell_type": "markdown",
   "id": "e6ebf5fd",
   "metadata": {},
   "source": [
    "In this column that Number of owners can change that car"
   ]
  },
  {
   "cell_type": "markdown",
   "id": "0783af67",
   "metadata": {},
   "source": [
    "###### 8. Price"
   ]
  },
  {
   "cell_type": "markdown",
   "id": "fbb64e08",
   "metadata": {},
   "source": [
    "In this column contain Price of the Car(Target Variable)"
   ]
  },
  {
   "cell_type": "markdown",
   "id": "a48fede2",
   "metadata": {},
   "source": [
    "#### Exploratory Data Analysis"
   ]
  },
  {
   "cell_type": "code",
   "execution_count": 286,
   "id": "a3cf81ae",
   "metadata": {},
   "outputs": [
    {
     "data": {
      "text/plain": [
       "(100, 8)"
      ]
     },
     "execution_count": 286,
     "metadata": {},
     "output_type": "execute_result"
    }
   ],
   "source": [
    "#check shape of dataset\n",
    "df.shape"
   ]
  },
  {
   "cell_type": "markdown",
   "id": "b20e3e7a",
   "metadata": {},
   "source": [
    "100 rows and 8 columns"
   ]
  },
  {
   "cell_type": "code",
   "execution_count": 287,
   "id": "dc2f152a",
   "metadata": {},
   "outputs": [
    {
     "data": {
      "text/plain": [
       "Car_Brand             object\n",
       "Manufacturing_Year     int64\n",
       "Car_Model             object\n",
       "Car_Variant           object\n",
       "Driven_Kilometers      int64\n",
       "Fuel                  object\n",
       "Number_of_owners      object\n",
       "Car_Price              int64\n",
       "dtype: object"
      ]
     },
     "execution_count": 287,
     "metadata": {},
     "output_type": "execute_result"
    }
   ],
   "source": [
    "#check all dtypes \n",
    "df.dtypes"
   ]
  },
  {
   "cell_type": "code",
   "execution_count": 288,
   "id": "03ef9a04",
   "metadata": {},
   "outputs": [
    {
     "data": {
      "text/plain": [
       "<AxesSubplot:>"
      ]
     },
     "execution_count": 288,
     "metadata": {},
     "output_type": "execute_result"
    },
    {
     "data": {
      "image/png": "[encoded data removed]",
      "text/plain": [
       "<Figure size 432x288 with 2 Axes>"
      ]
     },
     "metadata": {
      "needs_background": "light"
     },
     "output_type": "display_data"
    }
   ],
   "source": [
    "#check the null values using Heatmap \n",
    "sns.heatmap(df.isnull(),cmap='Greens')"
   ]
  },
  {
   "cell_type": "code",
   "execution_count": 289,
   "id": "34f7d75a",
   "metadata": {},
   "outputs": [
    {
     "data": {
      "text/plain": [
       "Car_Brand             0\n",
       "Manufacturing_Year    0\n",
       "Car_Model             0\n",
       "Car_Variant           0\n",
       "Driven_Kilometers     0\n",
       "Fuel                  0\n",
       "Number_of_owners      0\n",
       "Car_Price             0\n",
       "dtype: int64"
      ]
     },
     "execution_count": 289,
     "metadata": {},
     "output_type": "execute_result"
    }
   ],
   "source": [
    "#check the null values and sum the null values order by column\n",
    "df.isnull().sum()"
   ]
  },
  {
   "cell_type": "code",
   "execution_count": 290,
   "id": "d9244368",
   "metadata": {},
   "outputs": [
    {
     "name": "stdout",
     "output_type": "stream",
     "text": [
      "<class 'pandas.core.frame.DataFrame'>\n",
      "RangeIndex: 100 entries, 0 to 99\n",
      "Data columns (total 8 columns):\n",
      " #   Column              Non-Null Count  Dtype \n",
      "---  ------              --------------  ----- \n",
      " 0   Car_Brand           100 non-null    object\n",
      " 1   Manufacturing_Year  100 non-null    int64 \n",
      " 2   Car_Model           100 non-null    object\n",
      " 3   Car_Variant         100 non-null    object\n",
      " 4   Driven_Kilometers   100 non-null    int64 \n",
      " 5   Fuel                100 non-null    object\n",
      " 6   Number_of_owners    100 non-null    object\n",
      " 7   Car_Price           100 non-null    int64 \n",
      "dtypes: int64(3), object(5)\n",
      "memory usage: 6.4+ KB\n"
     ]
    }
   ],
   "source": [
    "#check the information of dataset\n",
    "df.info()"
   ]
  },
  {
   "cell_type": "markdown",
   "id": "7b9e271c",
   "metadata": {},
   "source": [
    "###### observations:-"
   ]
  },
  {
   "cell_type": "markdown",
   "id": "7ac68a71",
   "metadata": {},
   "source": [
    "1. 100 entries(rows)\n",
    "2. Data columns (total 8 columns)\n",
    "3. There is no null values\n",
    "4. dtypes: int64(3), object(5)\n",
    "5. memory usage: 6.4+ KB"
   ]
  },
  {
   "cell_type": "code",
   "execution_count": 292,
   "id": "ce33188c",
   "metadata": {},
   "outputs": [
    {
     "data": {
      "text/plain": [
       "Car_Brand             34\n",
       "Manufacturing_Year    14\n",
       "Car_Model             67\n",
       "Car_Variant            2\n",
       "Driven_Kilometers     99\n",
       "Fuel                   3\n",
       "Number_of_owners       3\n",
       "Car_Price             99\n",
       "dtype: int64"
      ]
     },
     "execution_count": 292,
     "metadata": {},
     "output_type": "execute_result"
    }
   ],
   "source": [
    "#check the uniques\n",
    "df.nunique()"
   ]
  },
  {
   "cell_type": "code",
   "execution_count": 293,
   "id": "ff687f52",
   "metadata": {},
   "outputs": [
    {
     "name": "stdout",
     "output_type": "stream",
     "text": [
      "[2020 2013 2017 2010 2015 2011 2016 2019 2014 2021 2018 2012 2009 2008]\n",
      "2018    17\n",
      "2015    13\n",
      "2016    11\n",
      "2019    11\n",
      "2014    10\n",
      "2017     9\n",
      "2013     8\n",
      "2021     8\n",
      "2020     5\n",
      "2010     3\n",
      "2012     2\n",
      "2008     1\n",
      "2009     1\n",
      "2011     1\n",
      "Name: Manufacturing_Year, dtype: int64\n"
     ]
    }
   ],
   "source": [
    "#check the unique of variable\n",
    "print(df['Manufacturing_Year'].unique())\n",
    "#count the unique values\n",
    "print(df['Manufacturing_Year'].value_counts())"
   ]
  },
  {
   "cell_type": "code",
   "execution_count": 294,
   "id": "a867b50b",
   "metadata": {},
   "outputs": [
    {
     "data": {
      "image/png": "[encoded data removed]",
      "text/plain": [
       "<Figure size 648x360 with 1 Axes>"
      ]
     },
     "metadata": {
      "needs_background": "light"
     },
     "output_type": "display_data"
    }
   ],
   "source": [
    "#count plot of variable\n",
    "plt.figure(figsize=(9,5))\n",
    "sns.countplot(df['Manufacturing_Year'],palette='Set1');"
   ]
  },
  {
   "cell_type": "code",
   "execution_count": 295,
   "id": "1006c237",
   "metadata": {},
   "outputs": [
    {
     "name": "stdout",
     "output_type": "stream",
     "text": [
      "['Manual' 'Automatic']\n",
      "Manual       80\n",
      "Automatic    20\n",
      "Name: Car_Variant, dtype: int64\n"
     ]
    }
   ],
   "source": [
    "#check the unique of variable\n",
    "print(df['Car_Variant'].unique())\n",
    "#count the unique values\n",
    "print(df['Car_Variant'].value_counts())"
   ]
  },
  {
   "cell_type": "code",
   "execution_count": 297,
   "id": "4315bad4",
   "metadata": {},
   "outputs": [
    {
     "data": {
      "image/png": "[encoded data removed]",
      "text/plain": [
       "<Figure size 432x288 with 1 Axes>"
      ]
     },
     "metadata": {
      "needs_background": "light"
     },
     "output_type": "display_data"
    }
   ],
   "source": [
    "#count plot of variable\n",
    "sns.countplot(df['Car_Variant'],palette='rainbow_r');"
   ]
  },
  {
   "cell_type": "code",
   "execution_count": 303,
   "id": "5210cc9b",
   "metadata": {},
   "outputs": [
    {
     "name": "stdout",
     "output_type": "stream",
     "text": [
      "['Petrol' 'Diesel' 'Petrol + CNG']\n",
      "Petrol          68\n",
      "Diesel          31\n",
      "Petrol + CNG     1\n",
      "Name: Fuel, dtype: int64\n"
     ]
    }
   ],
   "source": [
    "#check the unique of variable\n",
    "print(df['Fuel'].unique())\n",
    "#count the unique values\n",
    "print(df['Fuel'].value_counts())"
   ]
  },
  {
   "cell_type": "code",
   "execution_count": 304,
   "id": "77cd9812",
   "metadata": {},
   "outputs": [],
   "source": [
    "df['Fuel']=df['Fuel'].replace('Petrol + CNG','Petrol')"
   ]
  },
  {
   "cell_type": "code",
   "execution_count": 308,
   "id": "77264e03",
   "metadata": {},
   "outputs": [
    {
     "data": {
      "image/png": "[encoded data removed]",
      "text/plain": [
       "<Figure size 432x288 with 1 Axes>"
      ]
     },
     "metadata": {
      "needs_background": "light"
     },
     "output_type": "display_data"
    }
   ],
   "source": [
    "#count plot of variable\n",
    "sns.countplot(df['Fuel'],palette='tab10_r');"
   ]
  },
  {
   "cell_type": "code",
   "execution_count": 309,
   "id": "27593aa1",
   "metadata": {},
   "outputs": [
    {
     "name": "stdout",
     "output_type": "stream",
     "text": [
      "['2nd Owner' '1st Owner' '3rd Owner']\n",
      "1st Owner    82\n",
      "2nd Owner    16\n",
      "3rd Owner     2\n",
      "Name: Number_of_owners, dtype: int64\n"
     ]
    }
   ],
   "source": [
    "#check the unique of variable\n",
    "print(df['Number_of_owners'].unique())\n",
    "#count the unique values\n",
    "print(df['Number_of_owners'].value_counts())"
   ]
  },
  {
   "cell_type": "code",
   "execution_count": 310,
   "id": "6c1f9a3c",
   "metadata": {},
   "outputs": [],
   "source": [
    "df['Number_of_owners']=df['Number_of_owners'].replace('2nd Owner',2)\n",
    "df['Number_of_owners']=df['Number_of_owners'].replace('3rd Owner',3)\n",
    "df['Number_of_owners']=df['Number_of_owners'].replace('1st Owner',1)"
   ]
  },
  {
   "cell_type": "code",
   "execution_count": 311,
   "id": "e5f45b70",
   "metadata": {},
   "outputs": [
    {
     "data": {
      "image/png": "[encoded data removed]",
      "text/plain": [
       "<Figure size 432x288 with 1 Axes>"
      ]
     },
     "metadata": {
      "needs_background": "light"
     },
     "output_type": "display_data"
    }
   ],
   "source": [
    "#count plot of variable\n",
    "sns.countplot(df['Number_of_owners'],palette='summer_r');"
   ]
  },
  {
   "cell_type": "markdown",
   "id": "117aba60",
   "metadata": {},
   "source": [
    "#### Data Pre-processing"
   ]
  },
  {
   "cell_type": "markdown",
   "id": "7597490f",
   "metadata": {},
   "source": [
    "##### Label Encoder"
   ]
  },
  {
   "cell_type": "code",
   "execution_count": 312,
   "id": "fe76446a",
   "metadata": {},
   "outputs": [],
   "source": [
    "from sklearn.preprocessing import LabelEncoder"
   ]
  },
  {
   "cell_type": "code",
   "execution_count": 334,
   "id": "57c4e41b",
   "metadata": {},
   "outputs": [],
   "source": [
    "df1=df.copy()"
   ]
  },
  {
   "cell_type": "code",
   "execution_count": 335,
   "id": "8fbdbcce",
   "metadata": {},
   "outputs": [],
   "source": [
    "df1.drop('Car_Price',inplace=True,axis=1)"
   ]
  },
  {
   "cell_type": "code",
   "execution_count": 336,
   "id": "b565ee1b",
   "metadata": {},
   "outputs": [],
   "source": [
    "df1=df1.apply(LabelEncoder().fit_transform)"
   ]
  },
  {
   "cell_type": "code",
   "execution_count": 337,
   "id": "15061953",
   "metadata": {},
   "outputs": [],
   "source": [
    "df1['Price']=df['Car_Price']"
   ]
  },
  {
   "cell_type": "code",
   "execution_count": 338,
   "id": "6511c0f8",
   "metadata": {},
   "outputs": [
    {
     "data": {
      "text/html": [
       "<div>\n",
       "<style scoped>\n",
       "    .dataframe tbody tr th:only-of-type {\n",
       "        vertical-align: middle;\n",
       "    }\n",
       "\n",
       "    .dataframe tbody tr th {\n",
       "        vertical-align: top;\n",
       "    }\n",
       "\n",
       "    .dataframe thead th {\n",
       "        text-align: right;\n",
       "    }\n",
       "</style>\n",
       "<table border=\"1\" class=\"dataframe\">\n",
       "  <thead>\n",
       "    <tr style=\"text-align: right;\">\n",
       "      <th></th>\n",
       "      <th>Car_Brand</th>\n",
       "      <th>Manufacturing_Year</th>\n",
       "      <th>Car_Model</th>\n",
       "      <th>Car_Variant</th>\n",
       "      <th>Driven_Kilometers</th>\n",
       "      <th>Fuel</th>\n",
       "      <th>Number_of_owners</th>\n",
       "      <th>Price</th>\n",
       "    </tr>\n",
       "  </thead>\n",
       "  <tbody>\n",
       "    <tr>\n",
       "      <th>0</th>\n",
       "      <td>10</td>\n",
       "      <td>12</td>\n",
       "      <td>38</td>\n",
       "      <td>1</td>\n",
       "      <td>10</td>\n",
       "      <td>1</td>\n",
       "      <td>1</td>\n",
       "      <td>588499</td>\n",
       "    </tr>\n",
       "    <tr>\n",
       "      <th>1</th>\n",
       "      <td>3</td>\n",
       "      <td>5</td>\n",
       "      <td>1</td>\n",
       "      <td>1</td>\n",
       "      <td>38</td>\n",
       "      <td>1</td>\n",
       "      <td>0</td>\n",
       "      <td>418899</td>\n",
       "    </tr>\n",
       "    <tr>\n",
       "      <th>2</th>\n",
       "      <td>10</td>\n",
       "      <td>9</td>\n",
       "      <td>42</td>\n",
       "      <td>0</td>\n",
       "      <td>8</td>\n",
       "      <td>1</td>\n",
       "      <td>0</td>\n",
       "      <td>605799</td>\n",
       "    </tr>\n",
       "    <tr>\n",
       "      <th>3</th>\n",
       "      <td>29</td>\n",
       "      <td>2</td>\n",
       "      <td>35</td>\n",
       "      <td>1</td>\n",
       "      <td>61</td>\n",
       "      <td>1</td>\n",
       "      <td>1</td>\n",
       "      <td>244099</td>\n",
       "    </tr>\n",
       "    <tr>\n",
       "      <th>4</th>\n",
       "      <td>30</td>\n",
       "      <td>7</td>\n",
       "      <td>20</td>\n",
       "      <td>0</td>\n",
       "      <td>33</td>\n",
       "      <td>0</td>\n",
       "      <td>0</td>\n",
       "      <td>1816919</td>\n",
       "    </tr>\n",
       "  </tbody>\n",
       "</table>\n",
       "</div>"
      ],
      "text/plain": [
       "   Car_Brand  Manufacturing_Year  Car_Model  Car_Variant  Driven_Kilometers  \\\n",
       "0         10                  12         38            1                 10   \n",
       "1          3                   5          1            1                 38   \n",
       "2         10                   9         42            0                  8   \n",
       "3         29                   2         35            1                 61   \n",
       "4         30                   7         20            0                 33   \n",
       "\n",
       "   Fuel  Number_of_owners    Price  \n",
       "0     1                 1   588499  \n",
       "1     1                 0   418899  \n",
       "2     1                 0   605799  \n",
       "3     1                 1   244099  \n",
       "4     0                 0  1816919  "
      ]
     },
     "execution_count": 338,
     "metadata": {},
     "output_type": "execute_result"
    }
   ],
   "source": [
    "df1.head()"
   ]
  },
  {
   "cell_type": "code",
   "execution_count": 339,
   "id": "da4df374",
   "metadata": {},
   "outputs": [
    {
     "data": {
      "text/html": [
       "<div>\n",
       "<style scoped>\n",
       "    .dataframe tbody tr th:only-of-type {\n",
       "        vertical-align: middle;\n",
       "    }\n",
       "\n",
       "    .dataframe tbody tr th {\n",
       "        vertical-align: top;\n",
       "    }\n",
       "\n",
       "    .dataframe thead th {\n",
       "        text-align: right;\n",
       "    }\n",
       "</style>\n",
       "<table border=\"1\" class=\"dataframe\">\n",
       "  <thead>\n",
       "    <tr style=\"text-align: right;\">\n",
       "      <th></th>\n",
       "      <th>count</th>\n",
       "      <th>mean</th>\n",
       "      <th>std</th>\n",
       "      <th>min</th>\n",
       "      <th>25%</th>\n",
       "      <th>50%</th>\n",
       "      <th>75%</th>\n",
       "      <th>max</th>\n",
       "    </tr>\n",
       "  </thead>\n",
       "  <tbody>\n",
       "    <tr>\n",
       "      <th>Car_Brand</th>\n",
       "      <td>100.0</td>\n",
       "      <td>15.46</td>\n",
       "      <td>9.542483</td>\n",
       "      <td>0.0</td>\n",
       "      <td>7.00</td>\n",
       "      <td>17.0</td>\n",
       "      <td>23.25</td>\n",
       "      <td>33.0</td>\n",
       "    </tr>\n",
       "    <tr>\n",
       "      <th>Manufacturing_Year</th>\n",
       "      <td>100.0</td>\n",
       "      <td>8.33</td>\n",
       "      <td>2.926904</td>\n",
       "      <td>0.0</td>\n",
       "      <td>6.00</td>\n",
       "      <td>8.5</td>\n",
       "      <td>10.00</td>\n",
       "      <td>13.0</td>\n",
       "    </tr>\n",
       "    <tr>\n",
       "      <th>Car_Model</th>\n",
       "      <td>100.0</td>\n",
       "      <td>34.21</td>\n",
       "      <td>19.059871</td>\n",
       "      <td>0.0</td>\n",
       "      <td>17.75</td>\n",
       "      <td>35.5</td>\n",
       "      <td>52.00</td>\n",
       "      <td>66.0</td>\n",
       "    </tr>\n",
       "    <tr>\n",
       "      <th>Car_Variant</th>\n",
       "      <td>100.0</td>\n",
       "      <td>0.80</td>\n",
       "      <td>0.402015</td>\n",
       "      <td>0.0</td>\n",
       "      <td>1.00</td>\n",
       "      <td>1.0</td>\n",
       "      <td>1.00</td>\n",
       "      <td>1.0</td>\n",
       "    </tr>\n",
       "    <tr>\n",
       "      <th>Driven_Kilometers</th>\n",
       "      <td>100.0</td>\n",
       "      <td>48.89</td>\n",
       "      <td>28.598543</td>\n",
       "      <td>0.0</td>\n",
       "      <td>24.75</td>\n",
       "      <td>48.5</td>\n",
       "      <td>73.25</td>\n",
       "      <td>98.0</td>\n",
       "    </tr>\n",
       "    <tr>\n",
       "      <th>Fuel</th>\n",
       "      <td>100.0</td>\n",
       "      <td>0.69</td>\n",
       "      <td>0.464823</td>\n",
       "      <td>0.0</td>\n",
       "      <td>0.00</td>\n",
       "      <td>1.0</td>\n",
       "      <td>1.00</td>\n",
       "      <td>1.0</td>\n",
       "    </tr>\n",
       "    <tr>\n",
       "      <th>Number_of_owners</th>\n",
       "      <td>100.0</td>\n",
       "      <td>0.20</td>\n",
       "      <td>0.449467</td>\n",
       "      <td>0.0</td>\n",
       "      <td>0.00</td>\n",
       "      <td>0.0</td>\n",
       "      <td>0.00</td>\n",
       "      <td>2.0</td>\n",
       "    </tr>\n",
       "    <tr>\n",
       "      <th>Price</th>\n",
       "      <td>100.0</td>\n",
       "      <td>634052.79</td>\n",
       "      <td>296138.735872</td>\n",
       "      <td>192399.0</td>\n",
       "      <td>418899.00</td>\n",
       "      <td>576149.0</td>\n",
       "      <td>780099.00</td>\n",
       "      <td>1816919.0</td>\n",
       "    </tr>\n",
       "  </tbody>\n",
       "</table>\n",
       "</div>"
      ],
      "text/plain": [
       "                    count       mean            std       min        25%  \\\n",
       "Car_Brand           100.0      15.46       9.542483       0.0       7.00   \n",
       "Manufacturing_Year  100.0       8.33       2.926904       0.0       6.00   \n",
       "Car_Model           100.0      34.21      19.059871       0.0      17.75   \n",
       "Car_Variant         100.0       0.80       0.402015       0.0       1.00   \n",
       "Driven_Kilometers   100.0      48.89      28.598543       0.0      24.75   \n",
       "Fuel                100.0       0.69       0.464823       0.0       0.00   \n",
       "Number_of_owners    100.0       0.20       0.449467       0.0       0.00   \n",
       "Price               100.0  634052.79  296138.735872  192399.0  418899.00   \n",
       "\n",
       "                         50%        75%        max  \n",
       "Car_Brand               17.0      23.25       33.0  \n",
       "Manufacturing_Year       8.5      10.00       13.0  \n",
       "Car_Model               35.5      52.00       66.0  \n",
       "Car_Variant              1.0       1.00        1.0  \n",
       "Driven_Kilometers       48.5      73.25       98.0  \n",
       "Fuel                     1.0       1.00        1.0  \n",
       "Number_of_owners         0.0       0.00        2.0  \n",
       "Price               576149.0  780099.00  1816919.0  "
      ]
     },
     "execution_count": 339,
     "metadata": {},
     "output_type": "execute_result"
    }
   ],
   "source": [
    "#describe\n",
    "df1.describe().T"
   ]
  },
  {
   "cell_type": "code",
   "execution_count": 344,
   "id": "a8bd8f12",
   "metadata": {},
   "outputs": [
    {
     "data": {
      "image/png": "[encoded data removed]",
      "text/plain": [
       "<Figure size 648x648 with 2 Axes>"
      ]
     },
     "metadata": {
      "needs_background": "light"
     },
     "output_type": "display_data"
    }
   ],
   "source": [
    "#checking correlation with each other by using heat map\n",
    "plt.figure(figsize=(9,9))\n",
    "sns.heatmap(df1.corr(),annot=True,cmap='PiYG');"
   ]
  },
  {
   "cell_type": "code",
   "execution_count": 347,
   "id": "61204871",
   "metadata": {},
   "outputs": [
    {
     "data": {
      "text/html": [
       "<div>\n",
       "<style scoped>\n",
       "    .dataframe tbody tr th:only-of-type {\n",
       "        vertical-align: middle;\n",
       "    }\n",
       "\n",
       "    .dataframe tbody tr th {\n",
       "        vertical-align: top;\n",
       "    }\n",
       "\n",
       "    .dataframe thead th {\n",
       "        text-align: right;\n",
       "    }\n",
       "</style>\n",
       "<table border=\"1\" class=\"dataframe\">\n",
       "  <thead>\n",
       "    <tr style=\"text-align: right;\">\n",
       "      <th></th>\n",
       "      <th>Car_Brand</th>\n",
       "      <th>Manufacturing_Year</th>\n",
       "      <th>Car_Model</th>\n",
       "      <th>Car_Variant</th>\n",
       "      <th>Driven_Kilometers</th>\n",
       "      <th>Fuel</th>\n",
       "      <th>Number_of_owners</th>\n",
       "      <th>Price</th>\n",
       "    </tr>\n",
       "  </thead>\n",
       "  <tbody>\n",
       "    <tr>\n",
       "      <th>Car_Brand</th>\n",
       "      <td>1.000000</td>\n",
       "      <td>-0.065886</td>\n",
       "      <td>0.546393</td>\n",
       "      <td>0.129547</td>\n",
       "      <td>0.047231</td>\n",
       "      <td>-0.104163</td>\n",
       "      <td>-0.000471</td>\n",
       "      <td>-0.206504</td>\n",
       "    </tr>\n",
       "    <tr>\n",
       "      <th>Manufacturing_Year</th>\n",
       "      <td>-0.065886</td>\n",
       "      <td>1.000000</td>\n",
       "      <td>-0.013929</td>\n",
       "      <td>-0.209461</td>\n",
       "      <td>-0.532215</td>\n",
       "      <td>0.165047</td>\n",
       "      <td>-0.265665</td>\n",
       "      <td>0.487201</td>\n",
       "    </tr>\n",
       "    <tr>\n",
       "      <th>Car_Model</th>\n",
       "      <td>0.546393</td>\n",
       "      <td>-0.013929</td>\n",
       "      <td>1.000000</td>\n",
       "      <td>-0.153973</td>\n",
       "      <td>0.025560</td>\n",
       "      <td>0.041626</td>\n",
       "      <td>0.068151</td>\n",
       "      <td>-0.169280</td>\n",
       "    </tr>\n",
       "    <tr>\n",
       "      <th>Car_Variant</th>\n",
       "      <td>0.129547</td>\n",
       "      <td>-0.209461</td>\n",
       "      <td>-0.153973</td>\n",
       "      <td>1.000000</td>\n",
       "      <td>0.242311</td>\n",
       "      <td>-0.064866</td>\n",
       "      <td>0.055902</td>\n",
       "      <td>-0.408588</td>\n",
       "    </tr>\n",
       "    <tr>\n",
       "      <th>Driven_Kilometers</th>\n",
       "      <td>0.047231</td>\n",
       "      <td>-0.532215</td>\n",
       "      <td>0.025560</td>\n",
       "      <td>0.242311</td>\n",
       "      <td>1.000000</td>\n",
       "      <td>-0.428872</td>\n",
       "      <td>0.102314</td>\n",
       "      <td>-0.228056</td>\n",
       "    </tr>\n",
       "    <tr>\n",
       "      <th>Fuel</th>\n",
       "      <td>-0.104163</td>\n",
       "      <td>0.165047</td>\n",
       "      <td>0.041626</td>\n",
       "      <td>-0.064866</td>\n",
       "      <td>-0.428872</td>\n",
       "      <td>1.000000</td>\n",
       "      <td>0.106366</td>\n",
       "      <td>-0.218095</td>\n",
       "    </tr>\n",
       "    <tr>\n",
       "      <th>Number_of_owners</th>\n",
       "      <td>-0.000471</td>\n",
       "      <td>-0.265665</td>\n",
       "      <td>0.068151</td>\n",
       "      <td>0.055902</td>\n",
       "      <td>0.102314</td>\n",
       "      <td>0.106366</td>\n",
       "      <td>1.000000</td>\n",
       "      <td>-0.092083</td>\n",
       "    </tr>\n",
       "    <tr>\n",
       "      <th>Price</th>\n",
       "      <td>-0.206504</td>\n",
       "      <td>0.487201</td>\n",
       "      <td>-0.169280</td>\n",
       "      <td>-0.408588</td>\n",
       "      <td>-0.228056</td>\n",
       "      <td>-0.218095</td>\n",
       "      <td>-0.092083</td>\n",
       "      <td>1.000000</td>\n",
       "    </tr>\n",
       "  </tbody>\n",
       "</table>\n",
       "</div>"
      ],
      "text/plain": [
       "                    Car_Brand  Manufacturing_Year  Car_Model  Car_Variant  \\\n",
       "Car_Brand            1.000000           -0.065886   0.546393     0.129547   \n",
       "Manufacturing_Year  -0.065886            1.000000  -0.013929    -0.209461   \n",
       "Car_Model            0.546393           -0.013929   1.000000    -0.153973   \n",
       "Car_Variant          0.129547           -0.209461  -0.153973     1.000000   \n",
       "Driven_Kilometers    0.047231           -0.532215   0.025560     0.242311   \n",
       "Fuel                -0.104163            0.165047   0.041626    -0.064866   \n",
       "Number_of_owners    -0.000471           -0.265665   0.068151     0.055902   \n",
       "Price               -0.206504            0.487201  -0.169280    -0.408588   \n",
       "\n",
       "                    Driven_Kilometers      Fuel  Number_of_owners     Price  \n",
       "Car_Brand                    0.047231 -0.104163         -0.000471 -0.206504  \n",
       "Manufacturing_Year          -0.532215  0.165047         -0.265665  0.487201  \n",
       "Car_Model                    0.025560  0.041626          0.068151 -0.169280  \n",
       "Car_Variant                  0.242311 -0.064866          0.055902 -0.408588  \n",
       "Driven_Kilometers            1.000000 -0.428872          0.102314 -0.228056  \n",
       "Fuel                        -0.428872  1.000000          0.106366 -0.218095  \n",
       "Number_of_owners             0.102314  0.106366          1.000000 -0.092083  \n",
       "Price                       -0.228056 -0.218095         -0.092083  1.000000  "
      ]
     },
     "execution_count": 347,
     "metadata": {},
     "output_type": "execute_result"
    }
   ],
   "source": [
    "#checking correlation with each other\n",
    "df1.corr()"
   ]
  },
  {
   "cell_type": "markdown",
   "id": "138afde9",
   "metadata": {},
   "source": [
    "###### observations:-"
   ]
  },
  {
   "cell_type": "markdown",
   "id": "f6b16e0d",
   "metadata": {},
   "source": [
    "1. Car_Brand is high positive correlation with Car_Model and high negative correlation with price\n",
    "2. Manufacturing_Year is high positive correlation with Price and high negative correlation with Driven_Kilometers\n",
    "3. Car_Model is high positive correlation with Car_Brand and high negative correlation with Price\n",
    "4. Car_Variant is high positive correlation with Price and high negative correlation with Driven_Kilometers"
   ]
  },
  {
   "cell_type": "code",
   "execution_count": 349,
   "id": "9df8c042",
   "metadata": {},
   "outputs": [],
   "source": [
    "df_target=df1.corr()"
   ]
  },
  {
   "cell_type": "code",
   "execution_count": 350,
   "id": "08b68184",
   "metadata": {},
   "outputs": [
    {
     "data": {
      "text/plain": [
       "Price                 1.000000\n",
       "Manufacturing_Year    0.487201\n",
       "Number_of_owners     -0.092083\n",
       "Car_Model            -0.169280\n",
       "Car_Brand            -0.206504\n",
       "Fuel                 -0.218095\n",
       "Driven_Kilometers    -0.228056\n",
       "Car_Variant          -0.408588\n",
       "Name: Price, dtype: float64"
      ]
     },
     "execution_count": 350,
     "metadata": {},
     "output_type": "execute_result"
    }
   ],
   "source": [
    "df_target['Price'].sort_values(ascending=False)"
   ]
  },
  {
   "cell_type": "markdown",
   "id": "11472dde",
   "metadata": {},
   "source": [
    "###### observations:-"
   ]
  },
  {
   "cell_type": "markdown",
   "id": "5b2ed12a",
   "metadata": {},
   "source": [
    "1. Manufacturing_Year are high positive correlation with Price(target) variable\n",
    "2. Car_Variant are high negative correlation with Price(Target) variable"
   ]
  },
  {
   "cell_type": "markdown",
   "id": "32fc3c47",
   "metadata": {},
   "source": [
    "##### Scatter Plot"
   ]
  },
  {
   "cell_type": "code",
   "execution_count": 354,
   "id": "160a18ae",
   "metadata": {},
   "outputs": [
    {
     "data": {
      "image/png": "[encoded data removed]",
      "text/plain": [
       "<Figure size 432x288 with 1 Axes>"
      ]
     },
     "metadata": {
      "needs_background": "light"
     },
     "output_type": "display_data"
    }
   ],
   "source": [
    "sns.scatterplot(df1['Car_Brand'],df1['Price']);"
   ]
  },
  {
   "cell_type": "code",
   "execution_count": 356,
   "id": "d1574f1e",
   "metadata": {},
   "outputs": [
    {
     "data": {
      "image/png": "[encoded data removed]",
      "text/plain": [
       "<Figure size 432x288 with 1 Axes>"
      ]
     },
     "metadata": {
      "needs_background": "light"
     },
     "output_type": "display_data"
    }
   ],
   "source": [
    "sns.scatterplot(df['Manufacturing_Year'],df1['Price']);"
   ]
  },
  {
   "cell_type": "code",
   "execution_count": 357,
   "id": "ade3d0b3",
   "metadata": {},
   "outputs": [
    {
     "data": {
      "image/png": "[encoded data removed]",
      "text/plain": [
       "<Figure size 432x288 with 1 Axes>"
      ]
     },
     "metadata": {
      "needs_background": "light"
     },
     "output_type": "display_data"
    }
   ],
   "source": [
    "sns.scatterplot(df1['Car_Model'],df1['Price']);"
   ]
  },
  {
   "cell_type": "code",
   "execution_count": 358,
   "id": "4a2a6a58",
   "metadata": {},
   "outputs": [
    {
     "data": {
      "image/png": "[encoded data removed]",
      "text/plain": [
       "<Figure size 432x288 with 1 Axes>"
      ]
     },
     "metadata": {
      "needs_background": "light"
     },
     "output_type": "display_data"
    }
   ],
   "source": [
    "sns.scatterplot(df['Car_Variant'],df1['Price']);"
   ]
  },
  {
   "cell_type": "code",
   "execution_count": 359,
   "id": "5c44cadd",
   "metadata": {},
   "outputs": [
    {
     "data": {
      "image/png": "[encoded data removed]",
      "text/plain": [
       "<Figure size 432x288 with 1 Axes>"
      ]
     },
     "metadata": {
      "needs_background": "light"
     },
     "output_type": "display_data"
    }
   ],
   "source": [
    "sns.scatterplot(df['Driven_Kilometers'],df1['Price']);"
   ]
  },
  {
   "cell_type": "code",
   "execution_count": 360,
   "id": "e820653d",
   "metadata": {},
   "outputs": [
    {
     "data": {
      "image/png": "[encoded data removed]",
      "text/plain": [
       "<Figure size 432x288 with 1 Axes>"
      ]
     },
     "metadata": {
      "needs_background": "light"
     },
     "output_type": "display_data"
    }
   ],
   "source": [
    "sns.scatterplot(df['Fuel'],df1['Price']);"
   ]
  },
  {
   "cell_type": "code",
   "execution_count": 361,
   "id": "57708199",
   "metadata": {},
   "outputs": [
    {
     "data": {
      "image/png": "[encoded data removed]",
      "text/plain": [
       "<Figure size 432x288 with 1 Axes>"
      ]
     },
     "metadata": {
      "needs_background": "light"
     },
     "output_type": "display_data"
    }
   ],
   "source": [
    "sns.scatterplot(df['Number_of_owners'],df1['Price']);"
   ]
  },
  {
   "cell_type": "markdown",
   "id": "22cdf2d9",
   "metadata": {},
   "source": [
    "#### Checking outliers"
   ]
  },
  {
   "cell_type": "code",
   "execution_count": 362,
   "id": "a558f1df",
   "metadata": {},
   "outputs": [
    {
     "data": {
      "image/png": "[encoded data removed]",
      "text/plain": [
       "<Figure size 1440x1440 with 9 Axes>"
      ]
     },
     "metadata": {
      "needs_background": "light"
     },
     "output_type": "display_data"
    }
   ],
   "source": [
    "df1.plot(kind='box',subplots=True,layout=(3,3),figsize=(20,20));"
   ]
  },
  {
   "cell_type": "markdown",
   "id": "2027d56c",
   "metadata": {},
   "source": [
    "#### check the skewness"
   ]
  },
  {
   "cell_type": "code",
   "execution_count": 363,
   "id": "8bfa0747",
   "metadata": {},
   "outputs": [
    {
     "data": {
      "image/png": "[encoded data removed]",
      "text/plain": [
       "<Figure size 1440x1440 with 9 Axes>"
      ]
     },
     "metadata": {
      "needs_background": "light"
     },
     "output_type": "display_data"
    }
   ],
   "source": [
    "df1.plot(kind='density',subplots=True,layout=(3,3),figsize=(20,20));"
   ]
  },
  {
   "cell_type": "markdown",
   "id": "d2cec70a",
   "metadata": {},
   "source": [
    "#### variance Inflation factor"
   ]
  },
  {
   "cell_type": "code",
   "execution_count": 364,
   "id": "43fd12ce",
   "metadata": {},
   "outputs": [],
   "source": [
    "from statsmodels.stats.outliers_influence import variance_inflation_factor"
   ]
  },
  {
   "cell_type": "code",
   "execution_count": 365,
   "id": "6ab1049f",
   "metadata": {},
   "outputs": [],
   "source": [
    "x=df1.drop('Price',axis=1)\n",
    "y=df1['Price']"
   ]
  },
  {
   "cell_type": "code",
   "execution_count": 368,
   "id": "91c0f159",
   "metadata": {},
   "outputs": [],
   "source": [
    "def vif():\n",
    "    vif=pd.DataFrame()\n",
    "    vif['variables']=x.columns\n",
    "    vif['VIF factor']=[variance_inflation_factor(x.values,i)for i in range(x.shape[1])]\n",
    "    return vif"
   ]
  },
  {
   "cell_type": "code",
   "execution_count": 369,
   "id": "31380111",
   "metadata": {},
   "outputs": [
    {
     "data": {
      "text/html": [
       "<div>\n",
       "<style scoped>\n",
       "    .dataframe tbody tr th:only-of-type {\n",
       "        vertical-align: middle;\n",
       "    }\n",
       "\n",
       "    .dataframe tbody tr th {\n",
       "        vertical-align: top;\n",
       "    }\n",
       "\n",
       "    .dataframe thead th {\n",
       "        text-align: right;\n",
       "    }\n",
       "</style>\n",
       "<table border=\"1\" class=\"dataframe\">\n",
       "  <thead>\n",
       "    <tr style=\"text-align: right;\">\n",
       "      <th></th>\n",
       "      <th>variables</th>\n",
       "      <th>VIF factor</th>\n",
       "    </tr>\n",
       "  </thead>\n",
       "  <tbody>\n",
       "    <tr>\n",
       "      <th>0</th>\n",
       "      <td>Car_Brand</td>\n",
       "      <td>5.665180</td>\n",
       "    </tr>\n",
       "    <tr>\n",
       "      <th>1</th>\n",
       "      <td>Manufacturing_Year</td>\n",
       "      <td>5.517082</td>\n",
       "    </tr>\n",
       "    <tr>\n",
       "      <th>2</th>\n",
       "      <td>Car_Model</td>\n",
       "      <td>6.605584</td>\n",
       "    </tr>\n",
       "    <tr>\n",
       "      <th>3</th>\n",
       "      <td>Car_Variant</td>\n",
       "      <td>5.392472</td>\n",
       "    </tr>\n",
       "    <tr>\n",
       "      <th>4</th>\n",
       "      <td>Driven_Kilometers</td>\n",
       "      <td>3.964244</td>\n",
       "    </tr>\n",
       "    <tr>\n",
       "      <th>5</th>\n",
       "      <td>Fuel</td>\n",
       "      <td>3.523104</td>\n",
       "    </tr>\n",
       "    <tr>\n",
       "      <th>6</th>\n",
       "      <td>Number_of_owners</td>\n",
       "      <td>1.304532</td>\n",
       "    </tr>\n",
       "  </tbody>\n",
       "</table>\n",
       "</div>"
      ],
      "text/plain": [
       "            variables  VIF factor\n",
       "0           Car_Brand    5.665180\n",
       "1  Manufacturing_Year    5.517082\n",
       "2           Car_Model    6.605584\n",
       "3         Car_Variant    5.392472\n",
       "4   Driven_Kilometers    3.964244\n",
       "5                Fuel    3.523104\n",
       "6    Number_of_owners    1.304532"
      ]
     },
     "execution_count": 369,
     "metadata": {},
     "output_type": "execute_result"
    }
   ],
   "source": [
    "vif()"
   ]
  },
  {
   "cell_type": "markdown",
   "id": "faac469d",
   "metadata": {},
   "source": [
    "#### standard scale"
   ]
  },
  {
   "cell_type": "code",
   "execution_count": 370,
   "id": "8f58b527",
   "metadata": {},
   "outputs": [],
   "source": [
    "from sklearn.preprocessing import MinMaxScaler"
   ]
  },
  {
   "cell_type": "code",
   "execution_count": 371,
   "id": "b23fbd8c",
   "metadata": {},
   "outputs": [],
   "source": [
    "scale=MinMaxScaler()"
   ]
  },
  {
   "cell_type": "code",
   "execution_count": 372,
   "id": "255288ee",
   "metadata": {},
   "outputs": [],
   "source": [
    "x=scale.fit_transform(x)"
   ]
  },
  {
   "cell_type": "markdown",
   "id": "7abef503",
   "metadata": {},
   "source": [
    "### Model Buliding"
   ]
  },
  {
   "cell_type": "code",
   "execution_count": 376,
   "id": "ed2290f8",
   "metadata": {},
   "outputs": [
    {
     "name": "stdout",
     "output_type": "stream",
     "text": [
      "(100, 7)\n",
      "(100,)\n"
     ]
    }
   ],
   "source": [
    "print(x.shape)\n",
    "print(y.shape)"
   ]
  },
  {
   "cell_type": "code",
   "execution_count": 389,
   "id": "2dd31abe",
   "metadata": {},
   "outputs": [],
   "source": [
    "#models\n",
    "from sklearn.linear_model import LinearRegression\n",
    "from sklearn.tree import DecisionTreeRegressor\n",
    "from sklearn.neighbors import KNeighborsRegressor\n",
    "from sklearn.svm import SVR\n",
    "from sklearn.ensemble import RandomForestRegressor\n",
    "from sklearn.ensemble import AdaBoostRegressor\n",
    "from sklearn.ensemble import GradientBoostingRegressor\n",
    "from sklearn.linear_model import Lasso\n",
    "from sklearn.linear_model import Ridge\n",
    "\n",
    "#model selection'\n",
    "from sklearn.model_selection import train_test_split\n",
    "from sklearn.model_selection import cross_val_score\n",
    "from sklearn.model_selection import GridSearchCV\n",
    "\n",
    "#metrics\n",
    "from sklearn.metrics import mean_absolute_error\n",
    "from sklearn.metrics import mean_squared_error\n",
    "from sklearn.metrics import r2_score"
   ]
  },
  {
   "cell_type": "code",
   "execution_count": 390,
   "id": "4546ec6d",
   "metadata": {},
   "outputs": [],
   "source": [
    "lr=LinearRegression()\n",
    "dtr=DecisionTreeRegressor()\n",
    "knr=KNeighborsRegressor()\n",
    "svr=SVR()\n",
    "rfr=RandomForestRegressor()\n",
    "abr=AdaBoostRegressor()\n",
    "gbr=GradientBoostingRegressor()\n",
    "lasso=Lasso()\n",
    "ridge=Ridge()"
   ]
  },
  {
   "cell_type": "code",
   "execution_count": 391,
   "id": "5c93506d",
   "metadata": {},
   "outputs": [],
   "source": [
    "models=[lr,dtr,knr,svr,rfr,abr,gbr,lasso,ridge]"
   ]
  },
  {
   "cell_type": "markdown",
   "id": "0d6f917d",
   "metadata": {},
   "source": [
    "#### LinearRegression"
   ]
  },
  {
   "cell_type": "code",
   "execution_count": 388,
   "id": "7c3655ff",
   "metadata": {},
   "outputs": [
    {
     "name": "stdout",
     "output_type": "stream",
     "text": [
      "Score: 0.5980634681268965 Random number: 78\n"
     ]
    }
   ],
   "source": [
    "maxscore=0\n",
    "rnum=0\n",
    "\n",
    "for i in range(1,200):\n",
    "    x_train,x_test,y_train,y_test=train_test_split(x,y,test_size=.20,random_state=i)\n",
    "    lr.fit(x_train,y_train)\n",
    "    score=lr.score(x_train,y_train)\n",
    "    if maxscore<score:\n",
    "        maxscore=score\n",
    "        rnum=i\n",
    "print('Score:',maxscore,'Random number:',rnum)"
   ]
  },
  {
   "cell_type": "code",
   "execution_count": 405,
   "id": "1e0ea7c0",
   "metadata": {},
   "outputs": [
    {
     "name": "stdout",
     "output_type": "stream",
     "text": [
      "mean_absolute_error: 274680.946518309\n",
      "mean_squared_error: 144944948168.72156\n",
      "r2_score: -3.6758949481444834\n"
     ]
    }
   ],
   "source": [
    "x_train,x_test,y_train,y_test=train_test_split(x,y,test_size=.20,random_state=78)\n",
    "lr.fit(x_train,y_train)\n",
    "pred=lr.predict(x_test)\n",
    "print('mean_absolute_error:',mean_absolute_error(pred,y_test))\n",
    "print('mean_squared_error:',mean_squared_error(pred,y_test))\n",
    "print('r2_score:',r2_score(pred,y_test))"
   ]
  },
  {
   "cell_type": "markdown",
   "id": "e518b6eb",
   "metadata": {},
   "source": [
    "#### DecisionTreeRegressor"
   ]
  },
  {
   "cell_type": "code",
   "execution_count": 392,
   "id": "661674f6",
   "metadata": {},
   "outputs": [
    {
     "name": "stdout",
     "output_type": "stream",
     "text": [
      "Score: 1.0 Random number: 1\n"
     ]
    }
   ],
   "source": [
    "maxscore=0\n",
    "rnum=0\n",
    "\n",
    "for i in range(1,200):\n",
    "    x_train,x_test,y_train,y_test=train_test_split(x,y,test_size=.20,random_state=i)\n",
    "    dtr.fit(x_train,y_train)\n",
    "    score=dtr.score(x_train,y_train)\n",
    "    if maxscore<score:\n",
    "        maxscore=score\n",
    "        rnum=i\n",
    "print('Score:',maxscore,'Random number:',rnum)"
   ]
  },
  {
   "cell_type": "code",
   "execution_count": 407,
   "id": "8ac33409",
   "metadata": {},
   "outputs": [
    {
     "name": "stdout",
     "output_type": "stream",
     "text": [
      "mean_absolute_error: 197424.6\n",
      "mean_squared_error: 82481929081.1\n",
      "r2_score: -1.0745913157391969\n"
     ]
    }
   ],
   "source": [
    "x_train,x_test,y_train,y_test=train_test_split(x,y,test_size=.20,random_state=1)\n",
    "dtr.fit(x_train,y_train)\n",
    "pred=dtr.predict(x_test)\n",
    "print('mean_absolute_error:',mean_absolute_error(pred,y_test))\n",
    "print('mean_squared_error:',mean_squared_error(pred,y_test))\n",
    "print('r2_score:',r2_score(pred,y_test))"
   ]
  },
  {
   "cell_type": "markdown",
   "id": "1480fcbd",
   "metadata": {},
   "source": [
    "#### KNeighborsRegressor"
   ]
  },
  {
   "cell_type": "code",
   "execution_count": 393,
   "id": "e1bd36e8",
   "metadata": {},
   "outputs": [
    {
     "name": "stdout",
     "output_type": "stream",
     "text": [
      "Score: 0.6493318482477111 Random number: 52\n"
     ]
    }
   ],
   "source": [
    "maxscore=0\n",
    "rnum=0\n",
    "\n",
    "for i in range(1,200):\n",
    "    x_train,x_test,y_train,y_test=train_test_split(x,y,test_size=.20,random_state=i)\n",
    "    knr.fit(x_train,y_train)\n",
    "    score=knr.score(x_train,y_train)\n",
    "    if maxscore<score:\n",
    "        maxscore=score\n",
    "        rnum=i\n",
    "print('Score:',maxscore,'Random number:',rnum)"
   ]
  },
  {
   "cell_type": "code",
   "execution_count": 408,
   "id": "82ffe535",
   "metadata": {},
   "outputs": [
    {
     "name": "stdout",
     "output_type": "stream",
     "text": [
      "mean_absolute_error: 203964.65\n",
      "mean_squared_error: 109005706650.85\n",
      "r2_score: -3.1023861447743126\n"
     ]
    }
   ],
   "source": [
    "x_train,x_test,y_train,y_test=train_test_split(x,y,test_size=.20,random_state=52)\n",
    "knr.fit(x_train,y_train)\n",
    "pred=knr.predict(x_test)\n",
    "print('mean_absolute_error:',mean_absolute_error(pred,y_test))\n",
    "print('mean_squared_error:',mean_squared_error(pred,y_test))\n",
    "print('r2_score:',r2_score(pred,y_test))"
   ]
  },
  {
   "cell_type": "markdown",
   "id": "a225c65f",
   "metadata": {},
   "source": [
    "#### Support Vector Regressor"
   ]
  },
  {
   "cell_type": "code",
   "execution_count": 394,
   "id": "5ec98ecd",
   "metadata": {},
   "outputs": [
    {
     "name": "stdout",
     "output_type": "stream",
     "text": [
      "Score: 0 Random number: 0\n"
     ]
    }
   ],
   "source": [
    "maxscore=0\n",
    "rnum=0\n",
    "\n",
    "for i in range(1,200):\n",
    "    x_train,x_test,y_train,y_test=train_test_split(x,y,test_size=.20,random_state=i)\n",
    "    svr.fit(x_train,y_train)\n",
    "    score=svr.score(x_train,y_train)\n",
    "    if maxscore<score:\n",
    "        maxscore=score\n",
    "        rnum=i\n",
    "print('Score:',maxscore,'Random number:',rnum)"
   ]
  },
  {
   "cell_type": "code",
   "execution_count": 410,
   "id": "6bc9b738",
   "metadata": {},
   "outputs": [
    {
     "name": "stdout",
     "output_type": "stream",
     "text": [
      "mean_absolute_error: 201311.8910152282\n",
      "mean_squared_error: 64798931913.77665\n",
      "r2_score: -5696313904.137399\n"
     ]
    }
   ],
   "source": [
    "x_train,x_test,y_train,y_test=train_test_split(x,y,test_size=.20,random_state=30)\n",
    "svr.fit(x_train,y_train)\n",
    "pred=svr.predict(x_test)\n",
    "print('mean_absolute_error:',mean_absolute_error(pred,y_test))\n",
    "print('mean_squared_error:',mean_squared_error(pred,y_test))\n",
    "print('r2_score:',r2_score(pred,y_test))"
   ]
  },
  {
   "cell_type": "markdown",
   "id": "c3a98f98",
   "metadata": {},
   "source": [
    "#### RandomForestRegressor"
   ]
  },
  {
   "cell_type": "code",
   "execution_count": 396,
   "id": "087e3eac",
   "metadata": {},
   "outputs": [
    {
     "name": "stdout",
     "output_type": "stream",
     "text": [
      "Score: 0.9475631014391065 Random number: 67\n"
     ]
    }
   ],
   "source": [
    "maxscore=0\n",
    "rnum=0\n",
    "\n",
    "for i in range(1,100):\n",
    "    x_train,x_test,y_train,y_test=train_test_split(x,y,test_size=.20,random_state=i)\n",
    "    rfr.fit(x_train,y_train)\n",
    "    score=rfr.score(x_train,y_train)\n",
    "    if maxscore<score:\n",
    "        maxscore=score\n",
    "        rnum=i\n",
    "print('Score:',maxscore,'Random number:',rnum)"
   ]
  },
  {
   "cell_type": "code",
   "execution_count": 411,
   "id": "5d548278",
   "metadata": {},
   "outputs": [
    {
     "name": "stdout",
     "output_type": "stream",
     "text": [
      "mean_absolute_error: 186704.293\n",
      "mean_squared_error: 88679217905.824\n",
      "r2_score: -2.0392165209830657\n"
     ]
    }
   ],
   "source": [
    "x_train,x_test,y_train,y_test=train_test_split(x,y,test_size=.20,random_state=67)\n",
    "rfr.fit(x_train,y_train)\n",
    "pred=rfr.predict(x_test)\n",
    "print('mean_absolute_error:',mean_absolute_error(pred,y_test))\n",
    "print('mean_squared_error:',mean_squared_error(pred,y_test))\n",
    "print('r2_score:',r2_score(pred,y_test))"
   ]
  },
  {
   "cell_type": "markdown",
   "id": "90d61262",
   "metadata": {},
   "source": [
    "#### AdaBoostRegressor"
   ]
  },
  {
   "cell_type": "code",
   "execution_count": 398,
   "id": "8bff6792",
   "metadata": {},
   "outputs": [
    {
     "name": "stdout",
     "output_type": "stream",
     "text": [
      "Score: 0.8980324287579311 Random number: 28\n"
     ]
    }
   ],
   "source": [
    "maxscore=0\n",
    "rnum=0\n",
    "\n",
    "for i in range(1,100):\n",
    "    x_train,x_test,y_train,y_test=train_test_split(x,y,test_size=.20,random_state=i)\n",
    "    abr.fit(x_train,y_train)\n",
    "    score=abr.score(x_train,y_train)\n",
    "    if maxscore<score:\n",
    "        maxscore=score\n",
    "        rnum=i\n",
    "print('Score:',maxscore,'Random number:',rnum)"
   ]
  },
  {
   "cell_type": "code",
   "execution_count": 412,
   "id": "9ed03947",
   "metadata": {},
   "outputs": [
    {
     "name": "stdout",
     "output_type": "stream",
     "text": [
      "mean_absolute_error: 213893.5805317844\n",
      "mean_squared_error: 69862065741.90543\n",
      "r2_score: -1.49108657137718\n"
     ]
    }
   ],
   "source": [
    "x_train,x_test,y_train,y_test=train_test_split(x,y,test_size=.20,random_state=28)\n",
    "abr.fit(x_train,y_train)\n",
    "pred=abr.predict(x_test)\n",
    "print('mean_absolute_error:',mean_absolute_error(pred,y_test))\n",
    "print('mean_squared_error:',mean_squared_error(pred,y_test))\n",
    "print('r2_score:',r2_score(pred,y_test))"
   ]
  },
  {
   "cell_type": "markdown",
   "id": "66ee0632",
   "metadata": {},
   "source": [
    "#### GradientBoostingRegressor"
   ]
  },
  {
   "cell_type": "code",
   "execution_count": 399,
   "id": "82468d62",
   "metadata": {},
   "outputs": [
    {
     "name": "stdout",
     "output_type": "stream",
     "text": [
      "Score: 0.9966645969212751 Random number: 21\n"
     ]
    }
   ],
   "source": [
    "maxscore=0\n",
    "rnum=0\n",
    "\n",
    "for i in range(1,100):\n",
    "    x_train,x_test,y_train,y_test=train_test_split(x,y,test_size=.20,random_state=i)\n",
    "    gbr.fit(x_train,y_train)\n",
    "    score=gbr.score(x_train,y_train)\n",
    "    if maxscore<score:\n",
    "        maxscore=score\n",
    "        rnum=i\n",
    "print('Score:',maxscore,'Random number:',rnum)"
   ]
  },
  {
   "cell_type": "code",
   "execution_count": 413,
   "id": "4219f3ab",
   "metadata": {},
   "outputs": [
    {
     "name": "stdout",
     "output_type": "stream",
     "text": [
      "mean_absolute_error: 181896.9943752289\n",
      "mean_squared_error: 60099836488.67781\n",
      "r2_score: 0.14097596625046616\n"
     ]
    }
   ],
   "source": [
    "x_train,x_test,y_train,y_test=train_test_split(x,y,test_size=.20,random_state=21)\n",
    "gbr.fit(x_train,y_train)\n",
    "pred=gbr.predict(x_test)\n",
    "print('mean_absolute_error:',mean_absolute_error(pred,y_test))\n",
    "print('mean_squared_error:',mean_squared_error(pred,y_test))\n",
    "print('r2_score:',r2_score(pred,y_test))"
   ]
  },
  {
   "cell_type": "markdown",
   "id": "330cb6bd",
   "metadata": {},
   "source": [
    "#### Lasso Regressor"
   ]
  },
  {
   "cell_type": "code",
   "execution_count": 400,
   "id": "f69b2755",
   "metadata": {},
   "outputs": [
    {
     "name": "stdout",
     "output_type": "stream",
     "text": [
      "Score: 0.5980634659574151 Random number: 78\n"
     ]
    }
   ],
   "source": [
    "maxscore=0\n",
    "rnum=0\n",
    "\n",
    "for i in range(1,100):\n",
    "    x_train,x_test,y_train,y_test=train_test_split(x,y,test_size=.20,random_state=i)\n",
    "    lasso.fit(x_train,y_train)\n",
    "    score=lasso.score(x_train,y_train)\n",
    "    if maxscore<score:\n",
    "        maxscore=score\n",
    "        rnum=i\n",
    "print('Score:',maxscore,'Random number:',rnum)"
   ]
  },
  {
   "cell_type": "code",
   "execution_count": 414,
   "id": "1c9da8e8",
   "metadata": {},
   "outputs": [
    {
     "name": "stdout",
     "output_type": "stream",
     "text": [
      "mean_absolute_error: 274679.32360348094\n",
      "mean_squared_error: 144942261298.90515\n",
      "r2_score: -3.676224370082709\n"
     ]
    }
   ],
   "source": [
    "x_train,x_test,y_train,y_test=train_test_split(x,y,test_size=.20,random_state=78)\n",
    "lasso.fit(x_train,y_train)\n",
    "pred=lasso.predict(x_test)\n",
    "print('mean_absolute_error:',mean_absolute_error(pred,y_test))\n",
    "print('mean_squared_error:',mean_squared_error(pred,y_test))\n",
    "print('r2_score:',r2_score(pred,y_test))"
   ]
  },
  {
   "cell_type": "markdown",
   "id": "80de2c89",
   "metadata": {},
   "source": [
    "#### Ridge Regressor"
   ]
  },
  {
   "cell_type": "code",
   "execution_count": 401,
   "id": "5ff1a79f",
   "metadata": {},
   "outputs": [
    {
     "name": "stdout",
     "output_type": "stream",
     "text": [
      "Score: 0.5813934279508612 Random number: 78\n"
     ]
    }
   ],
   "source": [
    "maxscore=0\n",
    "rnum=0\n",
    "\n",
    "for i in range(1,100):\n",
    "    x_train,x_test,y_train,y_test=train_test_split(x,y,test_size=.20,random_state=i)\n",
    "    ridge.fit(x_train,y_train)\n",
    "    score=ridge.score(x_train,y_train)\n",
    "    if maxscore<score:\n",
    "        maxscore=score\n",
    "        rnum=i\n",
    "print('Score:',maxscore,'Random number:',rnum)"
   ]
  },
  {
   "cell_type": "code",
   "execution_count": 415,
   "id": "6da6a054",
   "metadata": {},
   "outputs": [
    {
     "name": "stdout",
     "output_type": "stream",
     "text": [
      "mean_absolute_error: 276509.2857230803\n",
      "mean_squared_error: 140283289636.94067\n",
      "r2_score: -5.140507637299247\n"
     ]
    }
   ],
   "source": [
    "x_train,x_test,y_train,y_test=train_test_split(x,y,test_size=.20,random_state=78)\n",
    "ridge.fit(x_train,y_train)\n",
    "pred=ridge.predict(x_test)\n",
    "print('mean_absolute_error:',mean_absolute_error(pred,y_test))\n",
    "print('mean_squared_error:',mean_squared_error(pred,y_test))\n",
    "print('r2_score:',r2_score(pred,y_test))"
   ]
  },
  {
   "cell_type": "markdown",
   "id": "53bfd9a3",
   "metadata": {},
   "source": [
    "#### Cross Validation"
   ]
  },
  {
   "cell_type": "code",
   "execution_count": 404,
   "id": "077e7c41",
   "metadata": {},
   "outputs": [
    {
     "name": "stdout",
     "output_type": "stream",
     "text": [
      "LinearRegression()\n",
      "[ 0.19217224 -0.39163586]\n",
      "-0.0997318107168893\n",
      "DecisionTreeRegressor()\n",
      "[-0.03796965 -2.05904194]\n",
      "-1.048505795550481\n",
      "KNeighborsRegressor()\n",
      "[ 0.15806281 -0.02816657]\n",
      "0.06494812013772688\n",
      "SVR()\n",
      "[-0.01161031 -0.15357515]\n",
      "-0.08259273112321064\n",
      "RandomForestRegressor()\n",
      "[ 0.20865465 -0.12119039]\n",
      "0.043732130352814924\n",
      "AdaBoostRegressor()\n",
      "[ 0.22875871 -0.14604301]\n",
      "0.041357850463925816\n",
      "GradientBoostingRegressor()\n",
      "[ 0.27383898 -1.03927825]\n",
      "-0.38271963439068407\n",
      "Lasso()\n",
      "[ 0.19221795 -0.39162806]\n",
      "-0.09970505890031517\n",
      "Ridge()\n",
      "[2.98722669e-01 2.91032012e-04]\n",
      "0.14950685049569484\n"
     ]
    }
   ],
   "source": [
    "for model in models:\n",
    "    print(model)\n",
    "    score=cross_val_score(model,x,y,cv=2)\n",
    "    print(score)\n",
    "    print(score.mean())"
   ]
  },
  {
   "cell_type": "markdown",
   "id": "974aadbc",
   "metadata": {},
   "source": [
    "#### GradientBoostingRegressor is the best model"
   ]
  },
  {
   "cell_type": "code",
   "execution_count": 419,
   "id": "730d37ab",
   "metadata": {},
   "outputs": [
    {
     "name": "stdout",
     "output_type": "stream",
     "text": [
      "mean_absolute_error: 175008.15506216936\n",
      "mean_squared_error: 55762901884.462524\n",
      "r2_score: 0.1816672529886234\n"
     ]
    }
   ],
   "source": [
    "x_train,x_test,y_train,y_test=train_test_split(x,y,test_size=.20,random_state=21)\n",
    "gbr.fit(x_train,y_train)\n",
    "pred=gbr.predict(x_test)\n",
    "print('mean_absolute_error:',mean_absolute_error(pred,y_test))\n",
    "print('mean_squared_error:',mean_squared_error(pred,y_test))\n",
    "print('r2_score:',r2_score(pred,y_test))"
   ]
  },
  {
   "cell_type": "markdown",
   "id": "85d37233",
   "metadata": {},
   "source": [
    "#### Gradientboostingregressor Hyperparameter Tuning"
   ]
  },
  {
   "cell_type": "code",
   "execution_count": 423,
   "id": "ad1b7c0f",
   "metadata": {},
   "outputs": [
    {
     "data": {
      "text/plain": [
       "GridSearchCV(cv=5,\n",
       "             estimator=GradientBoostingRegressor(max_depth=8,\n",
       "                                                 max_features='sqrt',\n",
       "                                                 min_samples_leaf=50,\n",
       "                                                 min_samples_split=500,\n",
       "                                                 random_state=10,\n",
       "                                                 subsample=0.8),\n",
       "             n_jobs=4, param_grid={'n_estimators': range(20, 81, 10)},\n",
       "             scoring='roc_auc')"
      ]
     },
     "execution_count": 423,
     "metadata": {},
     "output_type": "execute_result"
    }
   ],
   "source": [
    "param_test1 = {'n_estimators':range(20,81,10)}\n",
    "gsearch1 = GridSearchCV(estimator = GradientBoostingRegressor(learning_rate=0.1, min_samples_split=500,min_samples_leaf=50,max_depth=8,max_features='sqrt',subsample=0.8,random_state=10),param_grid = param_test1, scoring='roc_auc',n_jobs=4,cv=5)\n",
    "gsearch1.fit(x_train,y_train)"
   ]
  },
  {
   "cell_type": "code",
   "execution_count": 424,
   "id": "4989bb43",
   "metadata": {},
   "outputs": [
    {
     "name": "stdout",
     "output_type": "stream",
     "text": [
      "GradientBoostingRegressor(max_depth=8, max_features='sqrt', min_samples_leaf=50,\n",
      "                          min_samples_split=500, n_estimators=20,\n",
      "                          random_state=10, subsample=0.8)\n",
      "{'n_estimators': 20}\n",
      "nan\n"
     ]
    }
   ],
   "source": [
    "print(gsearch1.best_estimator_)\n",
    "print(gsearch1.best_params_)\n",
    "print(gsearch1.best_score_)"
   ]
  },
  {
   "cell_type": "markdown",
   "id": "c5a1587d",
   "metadata": {},
   "source": [
    "#### Save the model"
   ]
  },
  {
   "cell_type": "code",
   "execution_count": 428,
   "id": "4b8837eb",
   "metadata": {},
   "outputs": [
    {
     "name": "stdout",
     "output_type": "stream",
     "text": [
      "[ 474871.08207439  318440.53517877  544248.64595487  572102.00878593\n",
      "  665973.06683987  861768.5293482   332286.64113748  560979.0479807\n",
      " 1158587.06752796  808911.4203749   453547.30312229  539923.95599228\n",
      "  219186.95719471  656359.12777397  821319.24245875 1167969.82025407\n",
      "  280437.30552606  685192.21762528  933745.06180232  777203.73860486]\n"
     ]
    }
   ],
   "source": [
    "import joblib\n",
    "#save the model\n",
    "joblib.dump(gbr,'car_price.obj')\n",
    "#load the model\n",
    "loaded_model=joblib.load('car_price.obj')\n",
    "#test the model is working or not\n",
    "print(loaded_model.predict(x_test))"
   ]
  }
 ],
 "metadata": {
  "kernelspec": {
   "display_name": "Python 3",
   "language": "python",
   "name": "python3"
  },
  "language_info": {
   "codemirror_mode": {
    "name": "ipython",
    "version": 3
   },
   "file_extension": ".py",
   "mimetype": "text/x-python",
   "name": "python",
   "nbconvert_exporter": "python",
   "pygments_lexer": "ipython3",
   "version": "3.8.8"
  }
 },
 "nbformat": 4,
 "nbformat_minor": 5
}
